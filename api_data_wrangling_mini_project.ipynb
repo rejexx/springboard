{
 "cells": [
  {
   "cell_type": "markdown",
   "metadata": {},
   "source": [
    "This exercise will require you to pull some data from the Qunadl API. Qaundl is currently the most widely used aggregator of financial market data."
   ]
  },
  {
   "cell_type": "markdown",
   "metadata": {},
   "source": [
    "As a first step, you will need to register a free account on the http://www.quandl.com website."
   ]
  },
  {
   "cell_type": "markdown",
   "metadata": {},
   "source": [
    "After you register, you will be provided with a unique API key, that you should store:"
   ]
  },
  {
   "cell_type": "code",
   "execution_count": 247,
   "metadata": {},
   "outputs": [],
   "source": [
    "# Store the API key as a string - according to PEP8, constants are always named in all upper case\n",
    "API_KEY = ''  #You need to enter your personal API key here.  "
   ]
  },
  {
   "cell_type": "markdown",
   "metadata": {},
   "source": [
    "Qaundl has a large number of data sources, but, unfortunately, most of them require a Premium subscription. Still, there are also a good number of free datasets."
   ]
  },
  {
   "cell_type": "markdown",
   "metadata": {},
   "source": [
    "For this mini project, we will focus on equities data from the Frankfurt Stock Exhange (FSE), which is available for free. We'll try and analyze the stock prices of a company called Carl Zeiss Meditec, which manufactures tools for eye examinations, as well as medical lasers for laser eye surgery: https://www.zeiss.com/meditec/int/home.html. The company is listed under the stock ticker AFX_X."
   ]
  },
  {
   "cell_type": "markdown",
   "metadata": {},
   "source": [
    "You can find the detailed Quandl API instructions here: https://docs.quandl.com/docs/time-series"
   ]
  },
  {
   "cell_type": "markdown",
   "metadata": {},
   "source": [
    "While there is a dedicated Python package for connecting to the Quandl API, we would prefer that you use the *requests* package, which can be easily downloaded using *pip* or *conda*. You can find the documentation for the package here: http://docs.python-requests.org/en/master/ "
   ]
  },
  {
   "cell_type": "markdown",
   "metadata": {},
   "source": [
    "Finally, apart from the *requests* package, you are encouraged to not use any third party Python packages, such as *pandas*, and instead focus on what's available in the Python Standard Library (the *collections* module might come in handy: https://pymotw.com/3/collections/ ).\n",
    "Also, since you won't have access to DataFrames, you are encouraged to us Python's native data structures - preferably dictionaries, though some questions can also be answered using lists.\n",
    "You can read more on these data structures here: https://docs.python.org/3/tutorial/datastructures.html"
   ]
  },
  {
   "cell_type": "markdown",
   "metadata": {},
   "source": [
    "Keep in mind that the JSON responses you will be getting from the API map almost one-to-one to Python's dictionaries. Unfortunately, they can be very nested, so make sure you read up on indexing dictionaries in the documentation provided above."
   ]
  },
  {
   "cell_type": "code",
   "execution_count": 248,
   "metadata": {},
   "outputs": [],
   "source": [
    "# First, import the relevant modules\n",
    "import requests\n",
    "from collections import defaultdict\n",
    "import math"
   ]
  },
  {
   "cell_type": "code",
   "execution_count": 249,
   "metadata": {},
   "outputs": [],
   "source": [
    "# Now, call the Quandl API and pull out a small sample of the data (only one day) to get a glimpse\n",
    "# into the JSON structure that will be returned\n",
    "\n",
    "#Quandl API: https://www.quandl.com/api/v3/datasets/{database_code}/{dataset_code}/data.{return_format}\n",
    "#  \"https://www.quandl.com/api/v3/datasets/WIKI/FB/data.json?api_key=YOURAPIKEY\"\n",
    "#   https://www.quandl.com/api/v3/datasets/\n",
    "url = 'https://www.quandl.com/api/v3/datasets/FSE/AFX_X/data.json'\n",
    "params = dict(api_key=API_KEY, start_date='2018-11-30', end_date='2018-11-30', )\n",
    "response = requests.get(url, params=params)"
   ]
  },
  {
   "cell_type": "code",
   "execution_count": 250,
   "metadata": {},
   "outputs": [
    {
     "name": "stdout",
     "output_type": "stream",
     "text": [
      "https://www.quandl.com/api/v3/datasets/FSE/AFX_X/data.json?api_key=D2Ugmsq9zUSykhPLbYBJ&start_date=2018-11-30&end_date=2018-11-30\n",
      "{\"dataset_data\":{\"limit\":null,\"transform\":null,\"column_index\":null,\"column_names\":[\"Date\",\"Open\",\"High\",\"Low\",\"Close\",\"Change\",\"Traded Volume\",\"Turnover\",\"Last Price of the Day\",\"Daily Traded Units\",\"Daily Turnover\"],\"start_date\":\"2018-11-30\",\"end_date\":\"2018-11-30\",\"frequency\":\"daily\",\"data\":[[\"2018-11-30\",null,62.3,60.95,61.0,null,142218.0,8716082.0,null,null,null]],\"collapse\":null,\"order\":null}}\n"
     ]
    }
   ],
   "source": [
    "# Inspect the JSON structure of the object you created, and take note of how nested it is,\n",
    "# as well as the overall structure\n",
    "print(response.url)\n",
    "print(response.text)"
   ]
  },
  {
   "cell_type": "markdown",
   "metadata": {},
   "source": [
    "These are your tasks for this mini project:\n",
    "\n",
    "1. Collect data from the Franfurt Stock Exchange, for the ticker AFX_X, for the whole year 2017 (keep in mind that the date format is YYYY-MM-DD).\n",
    "2. Convert the returned JSON object into a Python dictionary.\n",
    "3. Calculate what the highest and lowest opening prices were for the stock in this period.\n",
    "4. What was the largest change in any one day (based on High and Low price)?\n",
    "5. What was the largest change between any two days (based on Closing Price)?\n",
    "6. What was the average daily trading volume during this year?\n",
    "7. (Optional) What was the median trading volume during this year. (Note: you may need to implement your own function for calculating the median.)"
   ]
  },
  {
   "cell_type": "markdown",
   "metadata": {
    "collapsed": true
   },
   "source": [
    "## Project code"
   ]
  },
  {
   "cell_type": "markdown",
   "metadata": {},
   "source": [
    "1. Collect data from the Franfurt Stock Exchange, for the ticker AFX_X, for the whole year 2017 (keep in mind that the date format is YYYY-MM-DD)."
   ]
  },
  {
   "cell_type": "code",
   "execution_count": 251,
   "metadata": {},
   "outputs": [],
   "source": [
    "url = 'https://www.quandl.com/api/v3/datasets/FSE/AFX_X/data.json'\n",
    "params = dict(api_key=API_KEY, start_date='2017-01-01', end_date='2017-12-31', )\n",
    "\n",
    "response = requests.get(url, params=params)"
   ]
  },
  {
   "cell_type": "markdown",
   "metadata": {},
   "source": [
    "2. Convert the returned JSON object into a Python dictionary."
   ]
  },
  {
   "cell_type": "code",
   "execution_count": 252,
   "metadata": {},
   "outputs": [
    {
     "name": "stdout",
     "output_type": "stream",
     "text": [
      "url:  https://www.quandl.com/api/v3/datasets/FSE/AFX_X/data.json?api_key=D2Ugmsq9zUSykhPLbYBJ&start_date=2017-01-01&end_date=2017-12-31\n",
      "Columns in data:  ['Date', 'Open', 'High', 'Low', 'Close', 'Change', 'Traded Volume', 'Turnover', 'Last Price of the Day', 'Daily Traded Units', 'Daily Turnover']\n"
     ]
    }
   ],
   "source": [
    "afx_x_2017 = response.json()\n",
    "print(\"url: \", response.url)\n",
    "afx_x_2017 = afx_x_2017['dataset_data'] #remove outer wrapper\n",
    "print('Columns in data: ', afx_x_2017['column_names'])"
   ]
  },
  {
   "cell_type": "markdown",
   "metadata": {},
   "source": [
    "3. Calculate what the highest and lowest opening prices were for the stock in this period."
   ]
  },
  {
   "cell_type": "code",
   "execution_count": 253,
   "metadata": {},
   "outputs": [
    {
     "name": "stdout",
     "output_type": "stream",
     "text": [
      "Highest value is:  53.11\n",
      "Lowest value is:  34.0\n"
     ]
    }
   ],
   "source": [
    "#All of the stock data is in the 'data' key and is ordered Date, Open, High, Low,....\n",
    "# So we just need the date and open values.\n",
    "afx_x_2017_data = afx_x_2017['data']\n",
    "afx_colNames = afx_x_2017['column_names']\n",
    "\n",
    "#Convert into a dictionary for future exercises\n",
    "afx_x_2017_dict = defaultdict(list)\n",
    "\n",
    "#loop through each day, and in each day loop through each item, appending to the values. \n",
    "for day in afx_x_2017_data: \n",
    "    for k, v in tuple(zip(afx_colNames, day)):\n",
    "        afx_x_2017_dict[k].append(v)\n",
    "\n",
    "#Save out the open price for this exercise        \n",
    "openPrice = afx_x_2017_dict['Open']\n",
    "\n",
    "#remove all None values\n",
    "openPrice = [i for i in openPrice if i]\n",
    "\n",
    "print('Highest value is: ', max(openPrice))\n",
    "print('Lowest value is: ', min(openPrice))\n"
   ]
  },
  {
   "cell_type": "markdown",
   "metadata": {},
   "source": [
    "4. What was the largest change in any one day (based on High and Low price)?"
   ]
  },
  {
   "cell_type": "code",
   "execution_count": 254,
   "metadata": {},
   "outputs": [
    {
     "name": "stdout",
     "output_type": "stream",
     "text": [
      "Maximum change in any day was 2.8100000000000023\n"
     ]
    }
   ],
   "source": [
    "#Put the date, high, and low into a list of tuples for each day\n",
    "highLows = tuple(zip(afx_x_2017_dict['Date'], afx_x_2017_dict['High'], afx_x_2017_dict['Low']))\n",
    "      \n",
    "#Use list comprehension to subtract highs from lows.  There's already a change column...\n",
    "change = dict([(date, h - l) for date, h, l in highLows])\n",
    "\n",
    "#I put it in a dict hopping to find the date with out looping through everything, but didn't figure out how\n",
    "print(\"Maximum change in any day was\" ,max(change.values()))"
   ]
  },
  {
   "cell_type": "markdown",
   "metadata": {},
   "source": [
    "5. What was the largest change between any two days (based on Closing Price)?"
   ]
  },
  {
   "cell_type": "code",
   "execution_count": 255,
   "metadata": {},
   "outputs": [
    {
     "name": "stdout",
     "output_type": "stream",
     "text": [
      "Largest change between two days is: 2.559999999999995\n"
     ]
    }
   ],
   "source": [
    "#Let's use an old fashion for loop for this one\n",
    "close = afx_x_2017_dict['Close']\n",
    "largestTwoDayChange = max([ abs(close[i] - close[i-1] ) for i in range(1, len(close))])\n",
    "print('Largest change between two days is:', largestTwoDayChange)"
   ]
  },
  {
   "cell_type": "markdown",
   "metadata": {},
   "source": [
    "6. What was the average daily trading volume during this year?"
   ]
  },
  {
   "cell_type": "code",
   "execution_count": 256,
   "metadata": {},
   "outputs": [
    {
     "name": "stdout",
     "output_type": "stream",
     "text": [
      "Average trading volume for the year is: 89124.33725490196\n"
     ]
    }
   ],
   "source": [
    "#Source: https://www.geeksforgeeks.org/find-average-list-python/\n",
    "avg = sum(afx_x_2017_dict['Traded Volume'])/len(afx_x_2017_dict['Traded Volume'])\n",
    "print(\"Average trading volume for the year is:\", avg)"
   ]
  },
  {
   "cell_type": "markdown",
   "metadata": {},
   "source": [
    "7. (Optional) What was the median trading volume during this year. (Note: you may need to implement your own function for calculating the median.)"
   ]
  },
  {
   "cell_type": "code",
   "execution_count": 257,
   "metadata": {},
   "outputs": [
    {
     "name": "stdout",
     "output_type": "stream",
     "text": [
      "Median trading volume for the year is: 76286.0\n"
     ]
    }
   ],
   "source": [
    "#Median is the 'middle' value if all values are sorted.\n",
    "def median(lst):\n",
    "    '''Input: sorted list\n",
    "        output: median value'''\n",
    "    i = math.floor(len(lst)/2) #Middle (if odd) or upper of middle pair (if even)\n",
    "    \n",
    "    if (len(lst) % 2): #If odd number\n",
    "        return lst[i]\n",
    "    else:\n",
    "        return (lst[i]+lst[i-1])/2\n",
    "    \n",
    "tradeVol = afx_x_2017_dict['Traded Volume']\n",
    "tradeVol.sort() #sorts in place \n",
    "\n",
    "print(\"Median trading volume for the year is:\", median(tradeVol))"
   ]
  }
 ],
 "metadata": {
  "kernelspec": {
   "display_name": "Python 3",
   "language": "python",
   "name": "python3"
  },
  "language_info": {
   "codemirror_mode": {
    "name": "ipython",
    "version": 3
   },
   "file_extension": ".py",
   "mimetype": "text/x-python",
   "name": "python",
   "nbconvert_exporter": "python",
   "pygments_lexer": "ipython3",
   "version": "3.7.3"
  }
 },
 "nbformat": 4,
 "nbformat_minor": 2
}
