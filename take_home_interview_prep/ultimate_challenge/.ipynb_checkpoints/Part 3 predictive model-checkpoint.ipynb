{
 "cells": [
  {
   "cell_type": "markdown",
   "id": "passive-township",
   "metadata": {},
   "source": [
    "# \"Ultimate\" take home challenge part 3\n",
    "Build a predictive model for customer churn, provide insight and recommendations"
   ]
  },
  {
   "cell_type": "code",
   "execution_count": 55,
   "id": "challenging-benefit",
   "metadata": {
    "ExecuteTime": {
     "end_time": "2021-06-28T20:55:56.966748Z",
     "start_time": "2021-06-28T20:55:56.952788Z"
    }
   },
   "outputs": [],
   "source": [
    "# Imports\n",
    "import numpy as np\n",
    "import pandas as pd\n",
    "import json\n",
    "from datetime import datetime\n",
    "from matplotlib.dates import DateFormatter\n",
    "import seaborn as sns\n",
    "import matplotlib.pyplot as plt\n",
    "from pandas_profiling import ProfileReport\n",
    "import time\n",
    "\n",
    "from sklearn import __version__ as sklearn_version\n",
    "from sklearn.decomposition import PCA\n",
    "from sklearn.preprocessing import StandardScaler\n",
    "from sklearn.model_selection import train_test_split, cross_validate, GridSearchCV, learning_curve, RandomizedSearchCV\n",
    "from sklearn.linear_model import LogisticRegression\n",
    "from sklearn.ensemble import RandomForestClassifier\n",
    "from sklearn.metrics import confusion_matrix, plot_confusion_matrix, classification_report\n",
    "from sklearn.pipeline import make_pipeline"
   ]
  },
  {
   "cell_type": "code",
   "execution_count": 3,
   "id": "fatal-perspective",
   "metadata": {
    "ExecuteTime": {
     "end_time": "2021-06-28T19:00:40.623973Z",
     "start_time": "2021-06-28T19:00:40.605599Z"
    }
   },
   "outputs": [
    {
     "name": "stdout",
     "output_type": "stream",
     "text": [
      "0.23.2\n"
     ]
    }
   ],
   "source": [
    "print(sklearn_version)"
   ]
  },
  {
   "cell_type": "markdown",
   "id": "sacred-divide",
   "metadata": {},
   "source": [
    "## Exploratory Data Analysis"
   ]
  },
  {
   "cell_type": "code",
   "execution_count": 4,
   "id": "golden-shaft",
   "metadata": {
    "ExecuteTime": {
     "end_time": "2021-06-28T19:00:41.177642Z",
     "start_time": "2021-06-28T19:00:40.633689Z"
    }
   },
   "outputs": [
    {
     "data": {
      "text/plain": [
       "[{'city': \"King's Landing\",\n",
       "  'trips_in_first_30_days': 4,\n",
       "  'signup_date': '2014-01-25',\n",
       "  'avg_rating_of_driver': 4.7,\n",
       "  'avg_surge': 1.1,\n",
       "  'last_trip_date': '2014-06-17',\n",
       "  'phone': 'iPhone',\n",
       "  'surge_pct': 15.4,\n",
       "  'ultimate_black_user': True,\n",
       "  'weekday_pct': 46.2,\n",
       "  'avg_dist': 3.67,\n",
       "  'avg_rating_by_driver': 5.0},\n",
       " {'city': 'Astapor',\n",
       "  'trips_in_first_30_days': 0,\n",
       "  'signup_date': '2014-01-29',\n",
       "  'avg_rating_of_driver': 5.0,\n",
       "  'avg_surge': 1.0,\n",
       "  'last_trip_date': '2014-05-05',\n",
       "  'phone': 'Android',\n",
       "  'surge_pct': 0.0,\n",
       "  'ultimate_black_user': False,\n",
       "  'weekday_pct': 50.0,\n",
       "  'avg_dist': 8.26,\n",
       "  'avg_rating_by_driver': 5.0}]"
      ]
     },
     "execution_count": 4,
     "metadata": {},
     "output_type": "execute_result"
    }
   ],
   "source": [
    "with open(\"ultimate_data_challenge.json\") as raw_file:\n",
    "    raw_data = json.load(raw_file)\n",
    "raw_data[0:2]"
   ]
  },
  {
   "cell_type": "code",
   "execution_count": 5,
   "id": "turkish-admission",
   "metadata": {
    "ExecuteTime": {
     "end_time": "2021-06-28T19:00:41.632797Z",
     "start_time": "2021-06-28T19:00:41.180398Z"
    }
   },
   "outputs": [
    {
     "data": {
      "text/html": [
       "<div>\n",
       "<style scoped>\n",
       "    .dataframe tbody tr th:only-of-type {\n",
       "        vertical-align: middle;\n",
       "    }\n",
       "\n",
       "    .dataframe tbody tr th {\n",
       "        vertical-align: top;\n",
       "    }\n",
       "\n",
       "    .dataframe thead th {\n",
       "        text-align: right;\n",
       "    }\n",
       "</style>\n",
       "<table border=\"1\" class=\"dataframe\">\n",
       "  <thead>\n",
       "    <tr style=\"text-align: right;\">\n",
       "      <th></th>\n",
       "      <th>city</th>\n",
       "      <th>trips_in_first_30_days</th>\n",
       "      <th>signup_date</th>\n",
       "      <th>avg_rating_of_driver</th>\n",
       "      <th>avg_surge</th>\n",
       "      <th>last_trip_date</th>\n",
       "      <th>phone</th>\n",
       "      <th>surge_pct</th>\n",
       "      <th>ultimate_black_user</th>\n",
       "      <th>weekday_pct</th>\n",
       "      <th>avg_dist</th>\n",
       "      <th>avg_rating_by_driver</th>\n",
       "    </tr>\n",
       "  </thead>\n",
       "  <tbody>\n",
       "    <tr>\n",
       "      <th>0</th>\n",
       "      <td>King's Landing</td>\n",
       "      <td>4</td>\n",
       "      <td>2014-01-25</td>\n",
       "      <td>4.7</td>\n",
       "      <td>1.10</td>\n",
       "      <td>2014-06-17</td>\n",
       "      <td>iPhone</td>\n",
       "      <td>15.4</td>\n",
       "      <td>True</td>\n",
       "      <td>46.2</td>\n",
       "      <td>3.67</td>\n",
       "      <td>5.0</td>\n",
       "    </tr>\n",
       "    <tr>\n",
       "      <th>1</th>\n",
       "      <td>Astapor</td>\n",
       "      <td>0</td>\n",
       "      <td>2014-01-29</td>\n",
       "      <td>5.0</td>\n",
       "      <td>1.00</td>\n",
       "      <td>2014-05-05</td>\n",
       "      <td>Android</td>\n",
       "      <td>0.0</td>\n",
       "      <td>False</td>\n",
       "      <td>50.0</td>\n",
       "      <td>8.26</td>\n",
       "      <td>5.0</td>\n",
       "    </tr>\n",
       "    <tr>\n",
       "      <th>2</th>\n",
       "      <td>Astapor</td>\n",
       "      <td>3</td>\n",
       "      <td>2014-01-06</td>\n",
       "      <td>4.3</td>\n",
       "      <td>1.00</td>\n",
       "      <td>2014-01-07</td>\n",
       "      <td>iPhone</td>\n",
       "      <td>0.0</td>\n",
       "      <td>False</td>\n",
       "      <td>100.0</td>\n",
       "      <td>0.77</td>\n",
       "      <td>5.0</td>\n",
       "    </tr>\n",
       "    <tr>\n",
       "      <th>3</th>\n",
       "      <td>King's Landing</td>\n",
       "      <td>9</td>\n",
       "      <td>2014-01-10</td>\n",
       "      <td>4.6</td>\n",
       "      <td>1.14</td>\n",
       "      <td>2014-06-29</td>\n",
       "      <td>iPhone</td>\n",
       "      <td>20.0</td>\n",
       "      <td>True</td>\n",
       "      <td>80.0</td>\n",
       "      <td>2.36</td>\n",
       "      <td>4.9</td>\n",
       "    </tr>\n",
       "    <tr>\n",
       "      <th>4</th>\n",
       "      <td>Winterfell</td>\n",
       "      <td>14</td>\n",
       "      <td>2014-01-27</td>\n",
       "      <td>4.4</td>\n",
       "      <td>1.19</td>\n",
       "      <td>2014-03-15</td>\n",
       "      <td>Android</td>\n",
       "      <td>11.8</td>\n",
       "      <td>False</td>\n",
       "      <td>82.4</td>\n",
       "      <td>3.13</td>\n",
       "      <td>4.9</td>\n",
       "    </tr>\n",
       "  </tbody>\n",
       "</table>\n",
       "</div>"
      ],
      "text/plain": [
       "             city  trips_in_first_30_days signup_date  avg_rating_of_driver  \\\n",
       "0  King's Landing                       4  2014-01-25                   4.7   \n",
       "1         Astapor                       0  2014-01-29                   5.0   \n",
       "2         Astapor                       3  2014-01-06                   4.3   \n",
       "3  King's Landing                       9  2014-01-10                   4.6   \n",
       "4      Winterfell                      14  2014-01-27                   4.4   \n",
       "\n",
       "   avg_surge last_trip_date    phone  surge_pct  ultimate_black_user  \\\n",
       "0       1.10     2014-06-17   iPhone       15.4                 True   \n",
       "1       1.00     2014-05-05  Android        0.0                False   \n",
       "2       1.00     2014-01-07   iPhone        0.0                False   \n",
       "3       1.14     2014-06-29   iPhone       20.0                 True   \n",
       "4       1.19     2014-03-15  Android       11.8                False   \n",
       "\n",
       "   weekday_pct  avg_dist  avg_rating_by_driver  \n",
       "0         46.2      3.67                   5.0  \n",
       "1         50.0      8.26                   5.0  \n",
       "2        100.0      0.77                   5.0  \n",
       "3         80.0      2.36                   4.9  \n",
       "4         82.4      3.13                   4.9  "
      ]
     },
     "execution_count": 5,
     "metadata": {},
     "output_type": "execute_result"
    }
   ],
   "source": [
    "# load user summary data to df\n",
    "df = pd.DataFrame(raw_data)\n",
    "df[\"signup_date\"] = pd.to_datetime(df.signup_date, infer_datetime_format=True)\n",
    "df[\"last_trip_date\"] = pd.to_datetime(df.last_trip_date, infer_datetime_format=True)\n",
    "df.head()"
   ]
  },
  {
   "cell_type": "code",
   "execution_count": 6,
   "id": "closed-rebel",
   "metadata": {
    "ExecuteTime": {
     "end_time": "2021-06-28T19:00:41.709331Z",
     "start_time": "2021-06-28T19:00:41.637788Z"
    }
   },
   "outputs": [
    {
     "name": "stdout",
     "output_type": "stream",
     "text": [
      "<class 'pandas.core.frame.DataFrame'>\n",
      "RangeIndex: 50000 entries, 0 to 49999\n",
      "Data columns (total 12 columns):\n",
      " #   Column                  Non-Null Count  Dtype         \n",
      "---  ------                  --------------  -----         \n",
      " 0   city                    50000 non-null  object        \n",
      " 1   trips_in_first_30_days  50000 non-null  int64         \n",
      " 2   signup_date             50000 non-null  datetime64[ns]\n",
      " 3   avg_rating_of_driver    41878 non-null  float64       \n",
      " 4   avg_surge               50000 non-null  float64       \n",
      " 5   last_trip_date          50000 non-null  datetime64[ns]\n",
      " 6   phone                   49604 non-null  object        \n",
      " 7   surge_pct               50000 non-null  float64       \n",
      " 8   ultimate_black_user     50000 non-null  bool          \n",
      " 9   weekday_pct             50000 non-null  float64       \n",
      " 10  avg_dist                50000 non-null  float64       \n",
      " 11  avg_rating_by_driver    49799 non-null  float64       \n",
      "dtypes: bool(1), datetime64[ns](2), float64(6), int64(1), object(2)\n",
      "memory usage: 4.2+ MB\n"
     ]
    }
   ],
   "source": [
    "df.info()"
   ]
  },
  {
   "cell_type": "code",
   "execution_count": 7,
   "id": "entitled-track",
   "metadata": {
    "ExecuteTime": {
     "end_time": "2021-06-28T19:00:41.855673Z",
     "start_time": "2021-06-28T19:00:41.713914Z"
    }
   },
   "outputs": [
    {
     "data": {
      "text/html": [
       "<div>\n",
       "<style scoped>\n",
       "    .dataframe tbody tr th:only-of-type {\n",
       "        vertical-align: middle;\n",
       "    }\n",
       "\n",
       "    .dataframe tbody tr th {\n",
       "        vertical-align: top;\n",
       "    }\n",
       "\n",
       "    .dataframe thead th {\n",
       "        text-align: right;\n",
       "    }\n",
       "</style>\n",
       "<table border=\"1\" class=\"dataframe\">\n",
       "  <thead>\n",
       "    <tr style=\"text-align: right;\">\n",
       "      <th></th>\n",
       "      <th>trips_in_first_30_days</th>\n",
       "      <th>avg_rating_of_driver</th>\n",
       "      <th>avg_surge</th>\n",
       "      <th>surge_pct</th>\n",
       "      <th>weekday_pct</th>\n",
       "      <th>avg_dist</th>\n",
       "      <th>avg_rating_by_driver</th>\n",
       "    </tr>\n",
       "  </thead>\n",
       "  <tbody>\n",
       "    <tr>\n",
       "      <th>count</th>\n",
       "      <td>50000.000000</td>\n",
       "      <td>41878.000000</td>\n",
       "      <td>50000.000000</td>\n",
       "      <td>50000.000000</td>\n",
       "      <td>50000.000000</td>\n",
       "      <td>50000.000000</td>\n",
       "      <td>49799.000000</td>\n",
       "    </tr>\n",
       "    <tr>\n",
       "      <th>mean</th>\n",
       "      <td>2.278200</td>\n",
       "      <td>4.601559</td>\n",
       "      <td>1.074764</td>\n",
       "      <td>8.849536</td>\n",
       "      <td>60.926084</td>\n",
       "      <td>5.796827</td>\n",
       "      <td>4.778158</td>\n",
       "    </tr>\n",
       "    <tr>\n",
       "      <th>std</th>\n",
       "      <td>3.792684</td>\n",
       "      <td>0.617338</td>\n",
       "      <td>0.222336</td>\n",
       "      <td>19.958811</td>\n",
       "      <td>37.081503</td>\n",
       "      <td>5.707357</td>\n",
       "      <td>0.446652</td>\n",
       "    </tr>\n",
       "    <tr>\n",
       "      <th>min</th>\n",
       "      <td>0.000000</td>\n",
       "      <td>1.000000</td>\n",
       "      <td>1.000000</td>\n",
       "      <td>0.000000</td>\n",
       "      <td>0.000000</td>\n",
       "      <td>0.000000</td>\n",
       "      <td>1.000000</td>\n",
       "    </tr>\n",
       "    <tr>\n",
       "      <th>25%</th>\n",
       "      <td>0.000000</td>\n",
       "      <td>4.300000</td>\n",
       "      <td>1.000000</td>\n",
       "      <td>0.000000</td>\n",
       "      <td>33.300000</td>\n",
       "      <td>2.420000</td>\n",
       "      <td>4.700000</td>\n",
       "    </tr>\n",
       "    <tr>\n",
       "      <th>50%</th>\n",
       "      <td>1.000000</td>\n",
       "      <td>4.900000</td>\n",
       "      <td>1.000000</td>\n",
       "      <td>0.000000</td>\n",
       "      <td>66.700000</td>\n",
       "      <td>3.880000</td>\n",
       "      <td>5.000000</td>\n",
       "    </tr>\n",
       "    <tr>\n",
       "      <th>75%</th>\n",
       "      <td>3.000000</td>\n",
       "      <td>5.000000</td>\n",
       "      <td>1.050000</td>\n",
       "      <td>8.600000</td>\n",
       "      <td>100.000000</td>\n",
       "      <td>6.940000</td>\n",
       "      <td>5.000000</td>\n",
       "    </tr>\n",
       "    <tr>\n",
       "      <th>max</th>\n",
       "      <td>125.000000</td>\n",
       "      <td>5.000000</td>\n",
       "      <td>8.000000</td>\n",
       "      <td>100.000000</td>\n",
       "      <td>100.000000</td>\n",
       "      <td>160.960000</td>\n",
       "      <td>5.000000</td>\n",
       "    </tr>\n",
       "  </tbody>\n",
       "</table>\n",
       "</div>"
      ],
      "text/plain": [
       "       trips_in_first_30_days  avg_rating_of_driver     avg_surge  \\\n",
       "count            50000.000000          41878.000000  50000.000000   \n",
       "mean                 2.278200              4.601559      1.074764   \n",
       "std                  3.792684              0.617338      0.222336   \n",
       "min                  0.000000              1.000000      1.000000   \n",
       "25%                  0.000000              4.300000      1.000000   \n",
       "50%                  1.000000              4.900000      1.000000   \n",
       "75%                  3.000000              5.000000      1.050000   \n",
       "max                125.000000              5.000000      8.000000   \n",
       "\n",
       "          surge_pct   weekday_pct      avg_dist  avg_rating_by_driver  \n",
       "count  50000.000000  50000.000000  50000.000000          49799.000000  \n",
       "mean       8.849536     60.926084      5.796827              4.778158  \n",
       "std       19.958811     37.081503      5.707357              0.446652  \n",
       "min        0.000000      0.000000      0.000000              1.000000  \n",
       "25%        0.000000     33.300000      2.420000              4.700000  \n",
       "50%        0.000000     66.700000      3.880000              5.000000  \n",
       "75%        8.600000    100.000000      6.940000              5.000000  \n",
       "max      100.000000    100.000000    160.960000              5.000000  "
      ]
     },
     "execution_count": 7,
     "metadata": {},
     "output_type": "execute_result"
    }
   ],
   "source": [
    "df.describe()"
   ]
  },
  {
   "cell_type": "code",
   "execution_count": 8,
   "id": "devoted-response",
   "metadata": {
    "ExecuteTime": {
     "end_time": "2021-06-28T19:00:41.874010Z",
     "start_time": "2021-06-28T19:00:41.859918Z"
    }
   },
   "outputs": [],
   "source": [
    "# Remove comment to run, this takes a little while, so I've turned it off \n",
    "#profile = ProfileReport(df, title=\"Pandas Profiling Report\")\n",
    "#profile.to_widgets()"
   ]
  },
  {
   "cell_type": "code",
   "execution_count": 9,
   "id": "peaceful-assist",
   "metadata": {
    "ExecuteTime": {
     "end_time": "2021-06-28T19:00:43.681676Z",
     "start_time": "2021-06-28T19:00:41.884874Z"
    }
   },
   "outputs": [
    {
     "data": {
      "image/png": "[encoded data removed]",
      "text/plain": [
       "<Figure size 432x288 with 9 Axes>"
      ]
     },
     "metadata": {
      "needs_background": "light"
     },
     "output_type": "display_data"
    }
   ],
   "source": [
    "df.hist();\n"
   ]
  },
  {
   "cell_type": "code",
   "execution_count": 10,
   "id": "religious-bundle",
   "metadata": {
    "ExecuteTime": {
     "end_time": "2021-06-28T19:00:44.147500Z",
     "start_time": "2021-06-28T19:00:43.688282Z"
    }
   },
   "outputs": [
    {
     "name": "stderr",
     "output_type": "stream",
     "text": [
      "C:\\ProgramData\\Anaconda3\\lib\\site-packages\\ipykernel_launcher.py:7: DeprecationWarning: `np.bool` is a deprecated alias for the builtin `bool`. To silence this warning, use `bool` by itself. Doing this will not modify any behavior and is safe. If you specifically wanted the numpy scalar type, use `np.bool_` here.\n",
      "Deprecated in NumPy 1.20; for more details and guidance: https://numpy.org/devdocs/release/1.20.0-notes.html#deprecations\n",
      "  import sys\n"
     ]
    },
    {
     "data": {
      "image/png": "[encoded data removed]",
      "text/plain": [
       "<Figure size 720x720 with 2 Axes>"
      ]
     },
     "metadata": {
      "needs_background": "light"
     },
     "output_type": "display_data"
    }
   ],
   "source": [
    ";# fancy heatmap with mask to avoid duplicates\n",
    "fig, ax = plt.subplots(figsize=(10,10))         # Sample figsize in inches\n",
    "font = {'family' : 'ariel',\n",
    "        'size'   : 12}\n",
    "plt.rcParams.update({'font.size': 12})\n",
    "\n",
    "mask = np.zeros_like(df.corr(), dtype=np.bool)\n",
    "mask[np.triu_indices_from(mask)] = True\n",
    "\n",
    "sns.heatmap(df.corr(), ax=ax, vmin=-1, vmax=1, cmap='vlag', mask=mask);"
   ]
  },
  {
   "cell_type": "markdown",
   "id": "automated-battle",
   "metadata": {},
   "source": [
    "## How many users retained after 1 month\n",
    "\n",
    "> \"sample dataset of a cohort of users who signed up for an Ultimate account in January 2014. The data was pulled several months later we consider a user retained if they were “active” (i.e. took a trip) in the preceding 30 days.\" \n",
    "\n",
    "i.e. if the the ```trips_in_first_30_days``` column is > 0, it means they took a trip with in 30 days of sign-up."
   ]
  },
  {
   "cell_type": "code",
   "execution_count": 11,
   "id": "appreciated-territory",
   "metadata": {
    "ExecuteTime": {
     "end_time": "2021-06-28T19:00:44.378039Z",
     "start_time": "2021-06-28T19:00:44.150603Z"
    }
   },
   "outputs": [
    {
     "data": {
      "text/plain": [
       "True     34610\n",
       "False    15390\n",
       "Name: active, dtype: int64"
      ]
     },
     "execution_count": 11,
     "metadata": {},
     "output_type": "execute_result"
    }
   ],
   "source": [
    "# Make column for 'active' as bool\n",
    "df['active'] = df.trips_in_first_30_days > 0\n",
    "df.active.value_counts()"
   ]
  },
  {
   "cell_type": "code",
   "execution_count": 12,
   "id": "comfortable-protest",
   "metadata": {
    "ExecuteTime": {
     "end_time": "2021-06-28T19:00:44.413202Z",
     "start_time": "2021-06-28T19:00:44.385012Z"
    }
   },
   "outputs": [
    {
     "name": "stdout",
     "output_type": "stream",
     "text": [
      "69.22 % of active users from Jan cohort\n"
     ]
    }
   ],
   "source": [
    "active_count = df.active.value_counts()\n",
    "print(active_count[1]/(active_count[0]+active_count[1]) * 100, \"% of active users from Jan cohort\")"
   ]
  },
  {
   "cell_type": "code",
   "execution_count": 13,
   "id": "dietary-amsterdam",
   "metadata": {
    "ExecuteTime": {
     "end_time": "2021-06-28T19:00:44.464319Z",
     "start_time": "2021-06-28T19:00:44.421101Z"
    }
   },
   "outputs": [
    {
     "data": {
      "text/html": [
       "<div>\n",
       "<style scoped>\n",
       "    .dataframe tbody tr th:only-of-type {\n",
       "        vertical-align: middle;\n",
       "    }\n",
       "\n",
       "    .dataframe tbody tr th {\n",
       "        vertical-align: top;\n",
       "    }\n",
       "\n",
       "    .dataframe thead th {\n",
       "        text-align: right;\n",
       "    }\n",
       "</style>\n",
       "<table border=\"1\" class=\"dataframe\">\n",
       "  <thead>\n",
       "    <tr style=\"text-align: right;\">\n",
       "      <th></th>\n",
       "      <th>active</th>\n",
       "      <th>percent</th>\n",
       "    </tr>\n",
       "  </thead>\n",
       "  <tbody>\n",
       "    <tr>\n",
       "      <th>True</th>\n",
       "      <td>34610</td>\n",
       "      <td>0.6922</td>\n",
       "    </tr>\n",
       "    <tr>\n",
       "      <th>False</th>\n",
       "      <td>15390</td>\n",
       "      <td>0.3078</td>\n",
       "    </tr>\n",
       "  </tbody>\n",
       "</table>\n",
       "</div>"
      ],
      "text/plain": [
       "       active  percent\n",
       "True    34610   0.6922\n",
       "False   15390   0.3078"
      ]
     },
     "execution_count": 13,
     "metadata": {},
     "output_type": "execute_result"
    }
   ],
   "source": [
    "active_count_df = pd.DataFrame(active_count)\n",
    "total = active_count_df.active.sum()\n",
    "active_count_df[\"percent\"] = active_count_df.active/total\n",
    "active_count_df"
   ]
  },
  {
   "cell_type": "code",
   "execution_count": 14,
   "id": "partial-methodology",
   "metadata": {
    "ExecuteTime": {
     "end_time": "2021-06-28T19:00:45.596648Z",
     "start_time": "2021-06-28T19:00:44.499599Z"
    }
   },
   "outputs": [
    {
     "data": {
      "image/png": "[encoded data removed]",
      "text/plain": [
       "<Figure size 432x288 with 1 Axes>"
      ]
     },
     "metadata": {
      "needs_background": "light"
     },
     "output_type": "display_data"
    }
   ],
   "source": [
    "fig, ax = plt.subplots()\n",
    "\n",
    "bars = ax.bar([\"Active\", \"Inactive\"], height=active_count_df.active);\n",
    "plt.title(\"Jan Cohort User Status\")\n",
    "plt.ylabel(\"Number of users\");\n",
    "\n"
   ]
  },
  {
   "cell_type": "markdown",
   "id": "pressed-nebraska",
   "metadata": {},
   "source": [
    "## Predictive Model"
   ]
  },
  {
   "cell_type": "markdown",
   "id": "pending-spirit",
   "metadata": {
    "heading_collapsed": true
   },
   "source": [
    "### Feature engineering"
   ]
  },
  {
   "cell_type": "code",
   "execution_count": 15,
   "id": "successful-compromise",
   "metadata": {
    "ExecuteTime": {
     "end_time": "2021-06-28T19:00:47.997190Z",
     "start_time": "2021-06-28T19:00:45.602497Z"
    },
    "hidden": true
   },
   "outputs": [
    {
     "data": {
      "text/plain": [
       "Text(0, 0.5, 'Count')"
      ]
     },
     "execution_count": 15,
     "metadata": {},
     "output_type": "execute_result"
    },
    {
     "data": {
      "image/png": "[encoded data removed]",
      "text/plain": [
       "<Figure size 432x288 with 1 Axes>"
      ]
     },
     "metadata": {
      "needs_background": "light"
     },
     "output_type": "display_data"
    }
   ],
   "source": [
    "# Add days between singup and most recent trip\n",
    "df[\"days_between_signup_last_trip\"] = [delta.days for delta in (df.last_trip_date - df.signup_date)]\n",
    "df.days_between_signup_last_trip.hist(bins=30)\n",
    "plt.title(\"Days between signup and last trip\")\n",
    "plt.xlabel(\"Days\")\n",
    "plt.ylabel(\"Count\")"
   ]
  },
  {
   "cell_type": "code",
   "execution_count": 16,
   "id": "correct-fifty",
   "metadata": {
    "ExecuteTime": {
     "end_time": "2021-06-28T19:00:48.052538Z",
     "start_time": "2021-06-28T19:00:48.000161Z"
    },
    "hidden": true
   },
   "outputs": [
    {
     "data": {
      "text/plain": [
       "False    27506\n",
       "True     22494\n",
       "Name: active_after_6_months, dtype: int64"
      ]
     },
     "execution_count": 16,
     "metadata": {},
     "output_type": "execute_result"
    }
   ],
   "source": [
    "df[\"active_after_6_months\"] = df.days_between_signup_last_trip > 120\n",
    "df[\"active_after_6_months\"].value_counts()"
   ]
  },
  {
   "cell_type": "code",
   "execution_count": 17,
   "id": "secondary-working",
   "metadata": {
    "ExecuteTime": {
     "end_time": "2021-06-28T19:00:48.146241Z",
     "start_time": "2021-06-28T19:00:48.059863Z"
    },
    "hidden": true
   },
   "outputs": [
    {
     "name": "stdout",
     "output_type": "stream",
     "text": [
      "<class 'pandas.core.frame.DataFrame'>\n",
      "RangeIndex: 50000 entries, 0 to 49999\n",
      "Data columns (total 13 columns):\n",
      " #   Column                         Non-Null Count  Dtype  \n",
      "---  ------                         --------------  -----  \n",
      " 0   city                           50000 non-null  object \n",
      " 1   trips_in_first_30_days         50000 non-null  int64  \n",
      " 2   avg_rating_of_driver           41878 non-null  float64\n",
      " 3   avg_surge                      50000 non-null  float64\n",
      " 4   phone                          49604 non-null  object \n",
      " 5   surge_pct                      50000 non-null  float64\n",
      " 6   ultimate_black_user            50000 non-null  bool   \n",
      " 7   weekday_pct                    50000 non-null  float64\n",
      " 8   avg_dist                       50000 non-null  float64\n",
      " 9   avg_rating_by_driver           49799 non-null  float64\n",
      " 10  active                         50000 non-null  bool   \n",
      " 11  days_between_signup_last_trip  50000 non-null  int64  \n",
      " 12  active_after_6_months          50000 non-null  bool   \n",
      "dtypes: bool(3), float64(6), int64(2), object(2)\n",
      "memory usage: 4.0+ MB\n"
     ]
    }
   ],
   "source": [
    "# Remove features that aren't important/correlated with predictor and non-numeric\n",
    "clean_df = df.drop(['signup_date', 'last_trip_date'], axis='columns') \n",
    "clean_df.info()"
   ]
  },
  {
   "cell_type": "code",
   "execution_count": 18,
   "id": "matched-store",
   "metadata": {
    "ExecuteTime": {
     "end_time": "2021-06-28T19:00:48.215384Z",
     "start_time": "2021-06-28T19:00:48.148268Z"
    },
    "hidden": true
   },
   "outputs": [
    {
     "name": "stdout",
     "output_type": "stream",
     "text": [
      "<class 'pandas.core.frame.DataFrame'>\n",
      "RangeIndex: 50000 entries, 0 to 49999\n",
      "Data columns (total 13 columns):\n",
      " #   Column                         Non-Null Count  Dtype  \n",
      "---  ------                         --------------  -----  \n",
      " 0   city                           50000 non-null  object \n",
      " 1   trips_in_first_30_days         50000 non-null  int64  \n",
      " 2   avg_rating_of_driver           50000 non-null  float64\n",
      " 3   avg_surge                      50000 non-null  float64\n",
      " 4   phone                          50000 non-null  object \n",
      " 5   surge_pct                      50000 non-null  float64\n",
      " 6   ultimate_black_user            50000 non-null  bool   \n",
      " 7   weekday_pct                    50000 non-null  float64\n",
      " 8   avg_dist                       50000 non-null  float64\n",
      " 9   avg_rating_by_driver           50000 non-null  float64\n",
      " 10  active                         50000 non-null  bool   \n",
      " 11  days_between_signup_last_trip  50000 non-null  int64  \n",
      " 12  active_after_6_months          50000 non-null  bool   \n",
      "dtypes: bool(3), float64(6), int64(2), object(2)\n",
      "memory usage: 4.0+ MB\n"
     ]
    }
   ],
   "source": [
    "# impute NANs, not too many, but not a big addition\n",
    "clean_df[\"phone\"].fillna(value=\"unknown\", inplace=True)\n",
    "\n",
    "# I'll just impute the median\n",
    "clean_df.avg_rating_of_driver.fillna(clean_df.avg_rating_of_driver.median(), inplace=True) \n",
    "clean_df.avg_rating_by_driver.fillna(clean_df.avg_rating_of_driver.median(), inplace=True) \n",
    "clean_df.info()"
   ]
  },
  {
   "cell_type": "code",
   "execution_count": 19,
   "id": "statistical-likelihood",
   "metadata": {
    "ExecuteTime": {
     "end_time": "2021-06-28T19:00:48.285991Z",
     "start_time": "2021-06-28T19:00:48.218376Z"
    },
    "hidden": true
   },
   "outputs": [],
   "source": [
    "# One hot encode categories\n",
    "clean_df = pd.get_dummies(clean_df,prefix=\"encode\")"
   ]
  },
  {
   "cell_type": "code",
   "execution_count": 20,
   "id": "lesbian-official",
   "metadata": {
    "ExecuteTime": {
     "end_time": "2021-06-28T19:00:48.324747Z",
     "start_time": "2021-06-28T19:00:48.291622Z"
    },
    "hidden": true
   },
   "outputs": [],
   "source": [
    "# days_between_signup_last_trip is a transformation of target, so need to remove too\n",
    "X = clean_df.drop(['active_after_6_months', 'days_between_signup_last_trip'], axis='columns')\n",
    "y = clean_df['active_after_6_months']"
   ]
  },
  {
   "cell_type": "code",
   "execution_count": 21,
   "id": "residential-drama",
   "metadata": {
    "ExecuteTime": {
     "end_time": "2021-06-28T19:00:48.395326Z",
     "start_time": "2021-06-28T19:00:48.332827Z"
    },
    "hidden": true,
    "scrolled": true
   },
   "outputs": [
    {
     "data": {
      "text/html": [
       "<div>\n",
       "<style scoped>\n",
       "    .dataframe tbody tr th:only-of-type {\n",
       "        vertical-align: middle;\n",
       "    }\n",
       "\n",
       "    .dataframe tbody tr th {\n",
       "        vertical-align: top;\n",
       "    }\n",
       "\n",
       "    .dataframe thead th {\n",
       "        text-align: right;\n",
       "    }\n",
       "</style>\n",
       "<table border=\"1\" class=\"dataframe\">\n",
       "  <thead>\n",
       "    <tr style=\"text-align: right;\">\n",
       "      <th></th>\n",
       "      <th>trips_in_first_30_days</th>\n",
       "      <th>avg_rating_of_driver</th>\n",
       "      <th>avg_surge</th>\n",
       "      <th>surge_pct</th>\n",
       "      <th>ultimate_black_user</th>\n",
       "      <th>weekday_pct</th>\n",
       "      <th>avg_dist</th>\n",
       "      <th>avg_rating_by_driver</th>\n",
       "      <th>active</th>\n",
       "      <th>encode_Astapor</th>\n",
       "      <th>encode_King's Landing</th>\n",
       "      <th>encode_Winterfell</th>\n",
       "      <th>encode_Android</th>\n",
       "      <th>encode_iPhone</th>\n",
       "      <th>encode_unknown</th>\n",
       "    </tr>\n",
       "  </thead>\n",
       "  <tbody>\n",
       "    <tr>\n",
       "      <th>0</th>\n",
       "      <td>4</td>\n",
       "      <td>4.7</td>\n",
       "      <td>1.10</td>\n",
       "      <td>15.4</td>\n",
       "      <td>True</td>\n",
       "      <td>46.2</td>\n",
       "      <td>3.67</td>\n",
       "      <td>5.0</td>\n",
       "      <td>True</td>\n",
       "      <td>0</td>\n",
       "      <td>1</td>\n",
       "      <td>0</td>\n",
       "      <td>0</td>\n",
       "      <td>1</td>\n",
       "      <td>0</td>\n",
       "    </tr>\n",
       "    <tr>\n",
       "      <th>1</th>\n",
       "      <td>0</td>\n",
       "      <td>5.0</td>\n",
       "      <td>1.00</td>\n",
       "      <td>0.0</td>\n",
       "      <td>False</td>\n",
       "      <td>50.0</td>\n",
       "      <td>8.26</td>\n",
       "      <td>5.0</td>\n",
       "      <td>False</td>\n",
       "      <td>1</td>\n",
       "      <td>0</td>\n",
       "      <td>0</td>\n",
       "      <td>1</td>\n",
       "      <td>0</td>\n",
       "      <td>0</td>\n",
       "    </tr>\n",
       "    <tr>\n",
       "      <th>2</th>\n",
       "      <td>3</td>\n",
       "      <td>4.3</td>\n",
       "      <td>1.00</td>\n",
       "      <td>0.0</td>\n",
       "      <td>False</td>\n",
       "      <td>100.0</td>\n",
       "      <td>0.77</td>\n",
       "      <td>5.0</td>\n",
       "      <td>True</td>\n",
       "      <td>1</td>\n",
       "      <td>0</td>\n",
       "      <td>0</td>\n",
       "      <td>0</td>\n",
       "      <td>1</td>\n",
       "      <td>0</td>\n",
       "    </tr>\n",
       "    <tr>\n",
       "      <th>3</th>\n",
       "      <td>9</td>\n",
       "      <td>4.6</td>\n",
       "      <td>1.14</td>\n",
       "      <td>20.0</td>\n",
       "      <td>True</td>\n",
       "      <td>80.0</td>\n",
       "      <td>2.36</td>\n",
       "      <td>4.9</td>\n",
       "      <td>True</td>\n",
       "      <td>0</td>\n",
       "      <td>1</td>\n",
       "      <td>0</td>\n",
       "      <td>0</td>\n",
       "      <td>1</td>\n",
       "      <td>0</td>\n",
       "    </tr>\n",
       "    <tr>\n",
       "      <th>4</th>\n",
       "      <td>14</td>\n",
       "      <td>4.4</td>\n",
       "      <td>1.19</td>\n",
       "      <td>11.8</td>\n",
       "      <td>False</td>\n",
       "      <td>82.4</td>\n",
       "      <td>3.13</td>\n",
       "      <td>4.9</td>\n",
       "      <td>True</td>\n",
       "      <td>0</td>\n",
       "      <td>0</td>\n",
       "      <td>1</td>\n",
       "      <td>1</td>\n",
       "      <td>0</td>\n",
       "      <td>0</td>\n",
       "    </tr>\n",
       "  </tbody>\n",
       "</table>\n",
       "</div>"
      ],
      "text/plain": [
       "   trips_in_first_30_days  avg_rating_of_driver  avg_surge  surge_pct  \\\n",
       "0                       4                   4.7       1.10       15.4   \n",
       "1                       0                   5.0       1.00        0.0   \n",
       "2                       3                   4.3       1.00        0.0   \n",
       "3                       9                   4.6       1.14       20.0   \n",
       "4                      14                   4.4       1.19       11.8   \n",
       "\n",
       "   ultimate_black_user  weekday_pct  avg_dist  avg_rating_by_driver  active  \\\n",
       "0                 True         46.2      3.67                   5.0    True   \n",
       "1                False         50.0      8.26                   5.0   False   \n",
       "2                False        100.0      0.77                   5.0    True   \n",
       "3                 True         80.0      2.36                   4.9    True   \n",
       "4                False         82.4      3.13                   4.9    True   \n",
       "\n",
       "   encode_Astapor  encode_King's Landing  encode_Winterfell  encode_Android  \\\n",
       "0               0                      1                  0               0   \n",
       "1               1                      0                  0               1   \n",
       "2               1                      0                  0               0   \n",
       "3               0                      1                  0               0   \n",
       "4               0                      0                  1               1   \n",
       "\n",
       "   encode_iPhone  encode_unknown  \n",
       "0              1               0  \n",
       "1              0               0  \n",
       "2              1               0  \n",
       "3              1               0  \n",
       "4              0               0  "
      ]
     },
     "execution_count": 21,
     "metadata": {},
     "output_type": "execute_result"
    }
   ],
   "source": [
    "X.head()"
   ]
  },
  {
   "cell_type": "code",
   "execution_count": 22,
   "id": "organic-triple",
   "metadata": {
    "ExecuteTime": {
     "end_time": "2021-06-28T19:00:49.670454Z",
     "start_time": "2021-06-28T19:00:48.398559Z"
    },
    "hidden": true
   },
   "outputs": [],
   "source": [
    "# Scale data\n",
    "# best to scale just the training data, and fit both train and test to that\n",
    "# in my case, I'm doing PCA first, so I'll scale both and re-scale before split\n",
    "def scale_with_bools(X, scaler, regex_string, X_test=None):\n",
    "    \"\"\"Scale data, while skipping scaling for booleans (or whatever is filtered by regex)\n",
    "    returns pandas DF with scaled numerics and booleans joined back in\"\"\"\n",
    "    # filter out by string\n",
    "    old_index = X.index\n",
    "    X_to_scale = X[X.columns.drop(X.filter(regex=regex_string).columns )]\n",
    "    #scale data\n",
    "    scaler.fit(X_to_scale)\n",
    "    X_scaled = scaler.transform(X_to_scale)\n",
    "    #conver to df for joining\n",
    "    X_scaled_df = pd.DataFrame(X_scaled)\n",
    "    X_scaled_df.columns = X_to_scale.columns\n",
    "    #Filter booleans into seperate df\n",
    "    X_no_scale = X.filter(regex=regex_string)\n",
    "    # correct index\n",
    "    X_scaled_df.index = old_index  \n",
    "    # Add boolean values back, join on index\n",
    "    X_train_scaled = X_scaled_df.join(X_no_scale)\n",
    "\n",
    "# Need to clean this up and make it work to return both X and X_train\n",
    "    if X_test is not None:\n",
    "        old_index = X_test.index\n",
    "        X_to_scale = X_test[X_test.columns.drop(X_test.filter(regex=regex_string).columns )]\n",
    "        #scale data\n",
    "        scaler.fit(X_to_scale)\n",
    "        X_scaled = scaler.transform(X_to_scale)\n",
    "        #conver to df for joining\n",
    "        X_scaled_df = pd.DataFrame(X_scaled)\n",
    "        X_scaled_df.columns = X_to_scale.columns\n",
    "        #Filter booleans into seperate df\n",
    "        X_no_scale = X_test.filter(regex=regex_string)\n",
    "        # correct index\n",
    "        X_scaled_df.index = old_index \n",
    "        X_test_scaled = X_scaled_df.join(X_no_scale)\n",
    "        return X_train_scaled, X_test_scaled\n",
    "    return X_train_scaled"
   ]
  },
  {
   "cell_type": "code",
   "execution_count": 23,
   "id": "sealed-rebate",
   "metadata": {
    "ExecuteTime": {
     "end_time": "2021-06-28T19:00:49.865616Z",
     "start_time": "2021-06-28T19:00:49.672592Z"
    },
    "hidden": true
   },
   "outputs": [
    {
     "data": {
      "text/html": [
       "<div>\n",
       "<style scoped>\n",
       "    .dataframe tbody tr th:only-of-type {\n",
       "        vertical-align: middle;\n",
       "    }\n",
       "\n",
       "    .dataframe tbody tr th {\n",
       "        vertical-align: top;\n",
       "    }\n",
       "\n",
       "    .dataframe thead th {\n",
       "        text-align: right;\n",
       "    }\n",
       "</style>\n",
       "<table border=\"1\" class=\"dataframe\">\n",
       "  <thead>\n",
       "    <tr style=\"text-align: right;\">\n",
       "      <th></th>\n",
       "      <th>trips_in_first_30_days</th>\n",
       "      <th>avg_rating_of_driver</th>\n",
       "      <th>avg_surge</th>\n",
       "      <th>surge_pct</th>\n",
       "      <th>weekday_pct</th>\n",
       "      <th>avg_dist</th>\n",
       "      <th>avg_rating_by_driver</th>\n",
       "      <th>ultimate_black_user</th>\n",
       "      <th>active</th>\n",
       "      <th>encode_Astapor</th>\n",
       "      <th>encode_King's Landing</th>\n",
       "      <th>encode_Winterfell</th>\n",
       "      <th>encode_Android</th>\n",
       "      <th>encode_iPhone</th>\n",
       "      <th>encode_unknown</th>\n",
       "    </tr>\n",
       "  </thead>\n",
       "  <tbody>\n",
       "    <tr>\n",
       "      <th>0</th>\n",
       "      <td>0.453984</td>\n",
       "      <td>0.086801</td>\n",
       "      <td>0.113506</td>\n",
       "      <td>0.328202</td>\n",
       "      <td>-0.397131</td>\n",
       "      <td>-0.372650</td>\n",
       "      <td>0.496511</td>\n",
       "      <td>True</td>\n",
       "      <td>True</td>\n",
       "      <td>0</td>\n",
       "      <td>1</td>\n",
       "      <td>0</td>\n",
       "      <td>0</td>\n",
       "      <td>1</td>\n",
       "      <td>0</td>\n",
       "    </tr>\n",
       "    <tr>\n",
       "      <th>1</th>\n",
       "      <td>-0.600689</td>\n",
       "      <td>0.608000</td>\n",
       "      <td>-0.336268</td>\n",
       "      <td>-0.443394</td>\n",
       "      <td>-0.294653</td>\n",
       "      <td>0.431583</td>\n",
       "      <td>0.496511</td>\n",
       "      <td>False</td>\n",
       "      <td>False</td>\n",
       "      <td>1</td>\n",
       "      <td>0</td>\n",
       "      <td>0</td>\n",
       "      <td>1</td>\n",
       "      <td>0</td>\n",
       "      <td>0</td>\n",
       "    </tr>\n",
       "    <tr>\n",
       "      <th>2</th>\n",
       "      <td>0.190316</td>\n",
       "      <td>-0.608132</td>\n",
       "      <td>-0.336268</td>\n",
       "      <td>-0.443394</td>\n",
       "      <td>1.053741</td>\n",
       "      <td>-0.880771</td>\n",
       "      <td>0.496511</td>\n",
       "      <td>False</td>\n",
       "      <td>True</td>\n",
       "      <td>1</td>\n",
       "      <td>0</td>\n",
       "      <td>0</td>\n",
       "      <td>0</td>\n",
       "      <td>1</td>\n",
       "      <td>0</td>\n",
       "    </tr>\n",
       "    <tr>\n",
       "      <th>3</th>\n",
       "      <td>1.772325</td>\n",
       "      <td>-0.086933</td>\n",
       "      <td>0.293416</td>\n",
       "      <td>0.558679</td>\n",
       "      <td>0.514383</td>\n",
       "      <td>-0.602181</td>\n",
       "      <td>0.272202</td>\n",
       "      <td>True</td>\n",
       "      <td>True</td>\n",
       "      <td>0</td>\n",
       "      <td>1</td>\n",
       "      <td>0</td>\n",
       "      <td>0</td>\n",
       "      <td>1</td>\n",
       "      <td>0</td>\n",
       "    </tr>\n",
       "    <tr>\n",
       "      <th>4</th>\n",
       "      <td>3.090665</td>\n",
       "      <td>-0.434399</td>\n",
       "      <td>0.518303</td>\n",
       "      <td>0.147829</td>\n",
       "      <td>0.579106</td>\n",
       "      <td>-0.467266</td>\n",
       "      <td>0.272202</td>\n",
       "      <td>False</td>\n",
       "      <td>True</td>\n",
       "      <td>0</td>\n",
       "      <td>0</td>\n",
       "      <td>1</td>\n",
       "      <td>1</td>\n",
       "      <td>0</td>\n",
       "      <td>0</td>\n",
       "    </tr>\n",
       "  </tbody>\n",
       "</table>\n",
       "</div>"
      ],
      "text/plain": [
       "   trips_in_first_30_days  avg_rating_of_driver  avg_surge  surge_pct  \\\n",
       "0                0.453984              0.086801   0.113506   0.328202   \n",
       "1               -0.600689              0.608000  -0.336268  -0.443394   \n",
       "2                0.190316             -0.608132  -0.336268  -0.443394   \n",
       "3                1.772325             -0.086933   0.293416   0.558679   \n",
       "4                3.090665             -0.434399   0.518303   0.147829   \n",
       "\n",
       "   weekday_pct  avg_dist  avg_rating_by_driver  ultimate_black_user  active  \\\n",
       "0    -0.397131 -0.372650              0.496511                 True    True   \n",
       "1    -0.294653  0.431583              0.496511                False   False   \n",
       "2     1.053741 -0.880771              0.496511                False    True   \n",
       "3     0.514383 -0.602181              0.272202                 True    True   \n",
       "4     0.579106 -0.467266              0.272202                False    True   \n",
       "\n",
       "   encode_Astapor  encode_King's Landing  encode_Winterfell  encode_Android  \\\n",
       "0               0                      1                  0               0   \n",
       "1               1                      0                  0               1   \n",
       "2               1                      0                  0               0   \n",
       "3               0                      1                  0               0   \n",
       "4               0                      0                  1               1   \n",
       "\n",
       "   encode_iPhone  encode_unknown  \n",
       "0              1               0  \n",
       "1              0               0  \n",
       "2              1               0  \n",
       "3              1               0  \n",
       "4              0               0  "
      ]
     },
     "execution_count": 23,
     "metadata": {},
     "output_type": "execute_result"
    }
   ],
   "source": [
    "X_scaled_df = scale_with_bools(X, StandardScaler(), \"encode|ultimate_black_user|active\")\n",
    "X_scaled_df.head()"
   ]
  },
  {
   "cell_type": "code",
   "execution_count": 24,
   "id": "appreciated-boulder",
   "metadata": {
    "ExecuteTime": {
     "end_time": "2021-06-28T19:00:49.948017Z",
     "start_time": "2021-06-28T19:00:49.877437Z"
    },
    "hidden": true
   },
   "outputs": [
    {
     "name": "stdout",
     "output_type": "stream",
     "text": [
      "<class 'pandas.core.frame.DataFrame'>\n",
      "RangeIndex: 50000 entries, 0 to 49999\n",
      "Data columns (total 15 columns):\n",
      " #   Column                  Non-Null Count  Dtype  \n",
      "---  ------                  --------------  -----  \n",
      " 0   trips_in_first_30_days  50000 non-null  float64\n",
      " 1   avg_rating_of_driver    50000 non-null  float64\n",
      " 2   avg_surge               50000 non-null  float64\n",
      " 3   surge_pct               50000 non-null  float64\n",
      " 4   weekday_pct             50000 non-null  float64\n",
      " 5   avg_dist                50000 non-null  float64\n",
      " 6   avg_rating_by_driver    50000 non-null  float64\n",
      " 7   ultimate_black_user     50000 non-null  bool   \n",
      " 8   active                  50000 non-null  bool   \n",
      " 9   encode_Astapor          50000 non-null  uint8  \n",
      " 10  encode_King's Landing   50000 non-null  uint8  \n",
      " 11  encode_Winterfell       50000 non-null  uint8  \n",
      " 12  encode_Android          50000 non-null  uint8  \n",
      " 13  encode_iPhone           50000 non-null  uint8  \n",
      " 14  encode_unknown          50000 non-null  uint8  \n",
      "dtypes: bool(2), float64(7), uint8(6)\n",
      "memory usage: 3.1 MB\n"
     ]
    }
   ],
   "source": [
    "X_scaled_df.info()"
   ]
  },
  {
   "cell_type": "markdown",
   "id": "civic-directive",
   "metadata": {},
   "source": [
    "### Principle Component Analysis"
   ]
  },
  {
   "cell_type": "code",
   "execution_count": 25,
   "id": "determined-regression",
   "metadata": {
    "ExecuteTime": {
     "end_time": "2021-06-28T19:00:50.524466Z",
     "start_time": "2021-06-28T19:00:49.970190Z"
    }
   },
   "outputs": [
    {
     "data": {
      "text/plain": [
       "array([2.19065055e-01, 1.46559153e-01, 1.22386866e-01, 1.17043799e-01,\n",
       "       1.05201801e-01, 9.59197332e-02, 4.96617538e-02, 4.49738651e-02,\n",
       "       2.80329720e-02, 2.68617544e-02, 2.30476849e-02, 1.98676830e-02,\n",
       "       1.37787930e-03, 1.50839228e-32, 7.50826780e-33])"
      ]
     },
     "execution_count": 25,
     "metadata": {},
     "output_type": "execute_result"
    }
   ],
   "source": [
    "# Create a PCA instance: model\n",
    "model = PCA()\n",
    "# Fit model to points\n",
    "model.fit(X_scaled_df)\n",
    "# Get the first principal component: first_pc\n",
    "model.explained_variance_ratio_"
   ]
  },
  {
   "cell_type": "code",
   "execution_count": 26,
   "id": "collaborative-lying",
   "metadata": {
    "ExecuteTime": {
     "end_time": "2021-06-28T19:00:50.854056Z",
     "start_time": "2021-06-28T19:00:50.552272Z"
    }
   },
   "outputs": [
    {
     "data": {
      "image/png": "[encoded data removed]",
      "text/plain": [
       "<Figure size 432x288 with 1 Axes>"
      ]
     },
     "metadata": {
      "needs_background": "light"
     },
     "output_type": "display_data"
    }
   ],
   "source": [
    "#Plot explained variance of PCA:\n",
    "# Plot the explained variances\n",
    "features = range(model.n_components_)\n",
    "plt.bar(features, model.explained_variance_ratio_)\n",
    "plt.xlabel('PCA feature')\n",
    "plt.ylabel('explained variance ratio')\n",
    "plt.xticks(features)\n",
    "plt.show()"
   ]
  },
  {
   "cell_type": "code",
   "execution_count": 27,
   "id": "liked-dallas",
   "metadata": {
    "ExecuteTime": {
     "end_time": "2021-06-28T19:00:51.050472Z",
     "start_time": "2021-06-28T19:00:50.857689Z"
    }
   },
   "outputs": [
    {
     "data": {
      "text/html": [
       "<div>\n",
       "<style scoped>\n",
       "    .dataframe tbody tr th:only-of-type {\n",
       "        vertical-align: middle;\n",
       "    }\n",
       "\n",
       "    .dataframe tbody tr th {\n",
       "        vertical-align: top;\n",
       "    }\n",
       "\n",
       "    .dataframe thead th {\n",
       "        text-align: right;\n",
       "    }\n",
       "</style>\n",
       "<table border=\"1\" class=\"dataframe\">\n",
       "  <thead>\n",
       "    <tr style=\"text-align: right;\">\n",
       "      <th></th>\n",
       "      <th>0</th>\n",
       "      <th>1</th>\n",
       "      <th>2</th>\n",
       "      <th>3</th>\n",
       "      <th>4</th>\n",
       "      <th>5</th>\n",
       "      <th>6</th>\n",
       "      <th>7</th>\n",
       "      <th>8</th>\n",
       "      <th>9</th>\n",
       "      <th>10</th>\n",
       "      <th>11</th>\n",
       "      <th>12</th>\n",
       "      <th>13</th>\n",
       "      <th>14</th>\n",
       "      <th>active_after_6_months</th>\n",
       "    </tr>\n",
       "  </thead>\n",
       "  <tbody>\n",
       "    <tr>\n",
       "      <th>0</th>\n",
       "      <td>0.444284</td>\n",
       "      <td>0.185757</td>\n",
       "      <td>0.520328</td>\n",
       "      <td>-0.584030</td>\n",
       "      <td>-0.419721</td>\n",
       "      <td>0.146637</td>\n",
       "      <td>-0.586372</td>\n",
       "      <td>0.141580</td>\n",
       "      <td>-0.854841</td>\n",
       "      <td>0.486360</td>\n",
       "      <td>-0.064462</td>\n",
       "      <td>-0.362876</td>\n",
       "      <td>-0.011956</td>\n",
       "      <td>2.183558e-16</td>\n",
       "      <td>-1.887671e-16</td>\n",
       "      <td>True</td>\n",
       "    </tr>\n",
       "    <tr>\n",
       "      <th>1</th>\n",
       "      <td>-0.547993</td>\n",
       "      <td>-1.136571</td>\n",
       "      <td>-0.338834</td>\n",
       "      <td>-0.531665</td>\n",
       "      <td>-0.004366</td>\n",
       "      <td>-0.070367</td>\n",
       "      <td>0.804285</td>\n",
       "      <td>0.836373</td>\n",
       "      <td>0.238825</td>\n",
       "      <td>-0.250146</td>\n",
       "      <td>0.193048</td>\n",
       "      <td>0.598232</td>\n",
       "      <td>-0.009386</td>\n",
       "      <td>1.350891e-16</td>\n",
       "      <td>3.455277e-16</td>\n",
       "      <td>False</td>\n",
       "    </tr>\n",
       "    <tr>\n",
       "      <th>2</th>\n",
       "      <td>-0.535323</td>\n",
       "      <td>0.603241</td>\n",
       "      <td>0.713957</td>\n",
       "      <td>0.253049</td>\n",
       "      <td>-0.522324</td>\n",
       "      <td>-1.209666</td>\n",
       "      <td>-0.405061</td>\n",
       "      <td>0.567715</td>\n",
       "      <td>0.488218</td>\n",
       "      <td>-0.466296</td>\n",
       "      <td>0.152252</td>\n",
       "      <td>-0.227753</td>\n",
       "      <td>-0.003054</td>\n",
       "      <td>1.906002e-16</td>\n",
       "      <td>4.773667e-16</td>\n",
       "      <td>False</td>\n",
       "    </tr>\n",
       "    <tr>\n",
       "      <th>3</th>\n",
       "      <td>0.592879</td>\n",
       "      <td>1.107527</td>\n",
       "      <td>1.721571</td>\n",
       "      <td>-0.025565</td>\n",
       "      <td>-0.172531</td>\n",
       "      <td>0.204113</td>\n",
       "      <td>-0.510092</td>\n",
       "      <td>0.212110</td>\n",
       "      <td>-0.886667</td>\n",
       "      <td>0.401950</td>\n",
       "      <td>-0.072365</td>\n",
       "      <td>-0.084416</td>\n",
       "      <td>-0.010912</td>\n",
       "      <td>-3.367557e-16</td>\n",
       "      <td>-1.332560e-16</td>\n",
       "      <td>True</td>\n",
       "    </tr>\n",
       "    <tr>\n",
       "      <th>4</th>\n",
       "      <td>0.470535</td>\n",
       "      <td>1.905908</td>\n",
       "      <td>2.283327</td>\n",
       "      <td>0.200692</td>\n",
       "      <td>-0.404172</td>\n",
       "      <td>0.874800</td>\n",
       "      <td>1.324866</td>\n",
       "      <td>-0.314670</td>\n",
       "      <td>0.126456</td>\n",
       "      <td>-0.267962</td>\n",
       "      <td>0.345923</td>\n",
       "      <td>0.447714</td>\n",
       "      <td>-0.012516</td>\n",
       "      <td>-1.419223e-15</td>\n",
       "      <td>2.900165e-16</td>\n",
       "      <td>False</td>\n",
       "    </tr>\n",
       "  </tbody>\n",
       "</table>\n",
       "</div>"
      ],
      "text/plain": [
       "          0         1         2         3         4         5         6  \\\n",
       "0  0.444284  0.185757  0.520328 -0.584030 -0.419721  0.146637 -0.586372   \n",
       "1 -0.547993 -1.136571 -0.338834 -0.531665 -0.004366 -0.070367  0.804285   \n",
       "2 -0.535323  0.603241  0.713957  0.253049 -0.522324 -1.209666 -0.405061   \n",
       "3  0.592879  1.107527  1.721571 -0.025565 -0.172531  0.204113 -0.510092   \n",
       "4  0.470535  1.905908  2.283327  0.200692 -0.404172  0.874800  1.324866   \n",
       "\n",
       "          7         8         9        10        11        12            13  \\\n",
       "0  0.141580 -0.854841  0.486360 -0.064462 -0.362876 -0.011956  2.183558e-16   \n",
       "1  0.836373  0.238825 -0.250146  0.193048  0.598232 -0.009386  1.350891e-16   \n",
       "2  0.567715  0.488218 -0.466296  0.152252 -0.227753 -0.003054  1.906002e-16   \n",
       "3  0.212110 -0.886667  0.401950 -0.072365 -0.084416 -0.010912 -3.367557e-16   \n",
       "4 -0.314670  0.126456 -0.267962  0.345923  0.447714 -0.012516 -1.419223e-15   \n",
       "\n",
       "             14  active_after_6_months  \n",
       "0 -1.887671e-16                   True  \n",
       "1  3.455277e-16                  False  \n",
       "2  4.773667e-16                  False  \n",
       "3 -1.332560e-16                   True  \n",
       "4  2.900165e-16                  False  "
      ]
     },
     "execution_count": 27,
     "metadata": {},
     "output_type": "execute_result"
    }
   ],
   "source": [
    "PCA_results = model.transform(X_scaled_df)\n",
    "PCA_DF = pd.DataFrame(data=PCA_results)\n",
    "PCA_Xy_DF = pd.concat([PCA_DF, pd.DataFrame(y)], axis=1)\n",
    "PCA_Xy_DF.head()"
   ]
  },
  {
   "cell_type": "code",
   "execution_count": 28,
   "id": "arbitrary-tradition",
   "metadata": {
    "ExecuteTime": {
     "end_time": "2021-06-28T19:00:53.007002Z",
     "start_time": "2021-06-28T19:00:51.053447Z"
    }
   },
   "outputs": [
    {
     "data": {
      "text/plain": [
       "<AxesSubplot:title={'center':'PCA scatter'}, xlabel='Principal Component 2', ylabel='Principal Component 3'>"
      ]
     },
     "execution_count": 28,
     "metadata": {},
     "output_type": "execute_result"
    },
    {
     "data": {
      "image/png": "[encoded data removed]",
      "text/plain": [
       "<Figure size 576x576 with 1 Axes>"
      ]
     },
     "metadata": {
      "needs_background": "light"
     },
     "output_type": "display_data"
    }
   ],
   "source": [
    "fig = plt.figure(figsize = (8,8))\n",
    "ax = fig.add_subplot(1,1,1) \n",
    "ax.set_xlabel('Principal Component 2', fontsize = 15)\n",
    "ax.set_ylabel('Principal Component 3', fontsize = 15)\n",
    "ax.set_title('PCA scatter', fontsize = 20)\n",
    "sns.scatterplot(data=PCA_Xy_DF, x=2, y=3, alpha=0.5, marker='.', hue=\"active_after_6_months\")"
   ]
  },
  {
   "cell_type": "code",
   "execution_count": 29,
   "id": "magnetic-powell",
   "metadata": {
    "ExecuteTime": {
     "end_time": "2021-06-28T19:00:53.032528Z",
     "start_time": "2021-06-28T19:00:53.013382Z"
    }
   },
   "outputs": [],
   "source": [
    "# Can we see any PCA combinations that divide the target out?\n",
    "# commented out since this takes a while and the answer is, PCA helps but nothing perfect\n",
    "# sns.pairplot(data=PCA_Xy_DF, hue=\"active_after_6_months\", markers='.');"
   ]
  },
  {
   "cell_type": "markdown",
   "id": "endangered-launch",
   "metadata": {},
   "source": [
    "### Split and Train"
   ]
  },
  {
   "cell_type": "code",
   "execution_count": 30,
   "id": "urban-frederick",
   "metadata": {
    "ExecuteTime": {
     "end_time": "2021-06-28T19:00:53.305074Z",
     "start_time": "2021-06-28T19:00:53.042225Z"
    }
   },
   "outputs": [],
   "source": [
    "X_train, X_test, y_train, y_test = train_test_split(X, \n",
    "                                                    y, test_size=0.2, \n",
    "                                                    random_state=42)"
   ]
  },
  {
   "cell_type": "code",
   "execution_count": 31,
   "id": "amber-toddler",
   "metadata": {
    "ExecuteTime": {
     "end_time": "2021-06-28T19:00:53.420547Z",
     "start_time": "2021-06-28T19:00:53.309063Z"
    }
   },
   "outputs": [
    {
     "data": {
      "text/plain": [
       "(40000, 15)"
      ]
     },
     "execution_count": 31,
     "metadata": {},
     "output_type": "execute_result"
    }
   ],
   "source": [
    "X_train.shape"
   ]
  },
  {
   "cell_type": "markdown",
   "id": "loaded-wesley",
   "metadata": {},
   "source": [
    "#### Random Forest Classifier"
   ]
  },
  {
   "cell_type": "code",
   "execution_count": 32,
   "id": "persistent-providence",
   "metadata": {
    "ExecuteTime": {
     "end_time": "2021-06-28T19:00:53.494558Z",
     "start_time": "2021-06-28T19:00:53.436577Z"
    }
   },
   "outputs": [],
   "source": [
    "RFclass = RandomForestClassifier(random_state=42)  #Set up above\n",
    "\n",
    "grid_params_rf = {'randomforestclassifier__min_samples_split': np.arange(2,12),\n",
    "                  'randomforestclassifier__n_estimators': np.arange(10,500,5)\n",
    "              }\n",
    "rfPipe = make_pipeline(RFclass)\n",
    "\n",
    "#Random search through parameters + cross validation\n",
    "rfRandSearch = RandomizedSearchCV(rfPipe, param_distributions=grid_params_rf, n_jobs=-1, n_iter=10)\n"
   ]
  },
  {
   "cell_type": "code",
   "execution_count": 33,
   "id": "signal-client",
   "metadata": {
    "ExecuteTime": {
     "end_time": "2021-06-28T19:05:49.490585Z",
     "start_time": "2021-06-28T19:00:53.503573Z"
    }
   },
   "outputs": [
    {
     "name": "stdout",
     "output_type": "stream",
     "text": [
      "Wall time: 4min 55s\n"
     ]
    },
    {
     "data": {
      "text/plain": [
       "{'randomforestclassifier__n_estimators': 345,\n",
       " 'randomforestclassifier__min_samples_split': 11}"
      ]
     },
     "execution_count": 33,
     "metadata": {},
     "output_type": "execute_result"
    }
   ],
   "source": [
    "%%time\n",
    "rfRandSearch.fit(X_train, y_train)\n",
    "\n",
    "y_tr_rf = rfRandSearch.predict(X_train)\n",
    "y_te_rf = rfRandSearch.predict(X_test)\n",
    "rfRandSearch.best_params_"
   ]
  },
  {
   "cell_type": "markdown",
   "id": "offshore-clinton",
   "metadata": {},
   "source": [
    "Best from previous run:\n",
    "\n",
    "* 'randomforestclassifier__n_estimators': 345,\n",
    "* 'randomforestclassifier__min_samples_split': 11"
   ]
  },
  {
   "cell_type": "code",
   "execution_count": 34,
   "id": "literary-guyana",
   "metadata": {
    "ExecuteTime": {
     "end_time": "2021-06-28T19:05:55.450442Z",
     "start_time": "2021-06-28T19:05:49.498863Z"
    }
   },
   "outputs": [
    {
     "name": "stdout",
     "output_type": "stream",
     "text": [
      "Train score: 0.8897\n",
      "Test score: 0.7519\n"
     ]
    }
   ],
   "source": [
    "# Print scores\n",
    "print(\"Train score:\", rfRandSearch.score(X_train, y_train))\n",
    "print(\"Test score:\", rfRandSearch.score(X_test, y_test))\n"
   ]
  },
  {
   "cell_type": "code",
   "execution_count": 87,
   "id": "ceramic-cosmetic",
   "metadata": {
    "ExecuteTime": {
     "end_time": "2021-06-28T21:40:48.823483Z",
     "start_time": "2021-06-28T21:40:36.837104Z"
    }
   },
   "outputs": [
    {
     "data": {
      "text/plain": [
       "RandomForestClassifier(min_samples_split=11, n_estimators=345, random_state=42)"
      ]
     },
     "execution_count": 87,
     "metadata": {},
     "output_type": "execute_result"
    }
   ],
   "source": [
    "#Check feature importance\n",
    "RF_best = RandomForestClassifier(random_state = 42,\n",
    "                                 n_estimators = 345, \n",
    "                                 min_samples_split = 11)\n",
    "\n",
    "\n",
    "#After Jason Brownlee -  https://machinelearningmastery.com/calculate-feature-importance-with-python/\n",
    "RF_best.fit(X_train, y_train)"
   ]
  },
  {
   "cell_type": "code",
   "execution_count": 92,
   "id": "streaming-begin",
   "metadata": {
    "ExecuteTime": {
     "end_time": "2021-06-28T21:42:23.700669Z",
     "start_time": "2021-06-28T21:42:23.360420Z"
    }
   },
   "outputs": [
    {
     "data": {
      "image/png": "[encoded data removed]",
      "text/plain": [
       "<Figure size 288x576 with 1 Axes>"
      ]
     },
     "metadata": {
      "needs_background": "light"
     },
     "output_type": "display_data"
    }
   ],
   "source": [
    "importance = RF_best.feature_importances_\n",
    "x_features = X_train.columns\n",
    "\n",
    "# summarize feature importance\n",
    "feat_importance = list(zip(x_features, importance))\n",
    "feat_importance = sorted(feat_importance,key=lambda x: abs(x[1]), reverse=True)\n",
    "#print(\"Top 5 features\", feat_importance[0:5])\n",
    "\n",
    "feat_importance_df = pd.DataFrame(feat_importance, columns = [\"Feature\", \"Importance\"]) \n",
    "\n",
    "# plot feature importance\n",
    "#px.bar(data_frame = feat_importance_df, x = \"Feature\", y = \"Importance\", color= \"Importance\")\n",
    "fig, ax = plt.subplots(figsize=(4,8))\n",
    "sns.barplot(data= feat_importance_df, y = \"Feature\", x = \"Importance\", orient='h')\n",
    "plt.ylabel(\"Feature\", size=14)\n",
    "plt.xlabel(\"Importance\", size=14)\n",
    "plt.xticks(rotation=90)\n",
    "sns.despine();"
   ]
  },
  {
   "cell_type": "markdown",
   "id": "manufactured-aquatic",
   "metadata": {},
   "source": [
    "##### Random Forest with PCA"
   ]
  },
  {
   "cell_type": "code",
   "execution_count": 36,
   "id": "removable-father",
   "metadata": {
    "ExecuteTime": {
     "end_time": "2021-06-28T19:38:51.775257Z",
     "start_time": "2021-06-28T19:38:50.707159Z"
    }
   },
   "outputs": [
    {
     "data": {
      "text/html": [
       "<div>\n",
       "<style scoped>\n",
       "    .dataframe tbody tr th:only-of-type {\n",
       "        vertical-align: middle;\n",
       "    }\n",
       "\n",
       "    .dataframe tbody tr th {\n",
       "        vertical-align: top;\n",
       "    }\n",
       "\n",
       "    .dataframe thead th {\n",
       "        text-align: right;\n",
       "    }\n",
       "</style>\n",
       "<table border=\"1\" class=\"dataframe\">\n",
       "  <thead>\n",
       "    <tr style=\"text-align: right;\">\n",
       "      <th></th>\n",
       "      <th>trips_in_first_30_days</th>\n",
       "      <th>avg_rating_of_driver</th>\n",
       "      <th>avg_surge</th>\n",
       "      <th>surge_pct</th>\n",
       "      <th>weekday_pct</th>\n",
       "      <th>avg_dist</th>\n",
       "      <th>avg_rating_by_driver</th>\n",
       "      <th>ultimate_black_user</th>\n",
       "      <th>active</th>\n",
       "      <th>encode_Astapor</th>\n",
       "      <th>encode_King's Landing</th>\n",
       "      <th>encode_Winterfell</th>\n",
       "      <th>encode_Android</th>\n",
       "      <th>encode_iPhone</th>\n",
       "      <th>encode_unknown</th>\n",
       "    </tr>\n",
       "  </thead>\n",
       "  <tbody>\n",
       "    <tr>\n",
       "      <th>39087</th>\n",
       "      <td>-0.338462</td>\n",
       "      <td>0.605785</td>\n",
       "      <td>-0.334521</td>\n",
       "      <td>-0.442293</td>\n",
       "      <td>1.049932</td>\n",
       "      <td>-0.792330</td>\n",
       "      <td>0.493412</td>\n",
       "      <td>True</td>\n",
       "      <td>True</td>\n",
       "      <td>0</td>\n",
       "      <td>0</td>\n",
       "      <td>1</td>\n",
       "      <td>0</td>\n",
       "      <td>1</td>\n",
       "      <td>0</td>\n",
       "    </tr>\n",
       "    <tr>\n",
       "      <th>30893</th>\n",
       "      <td>-0.338462</td>\n",
       "      <td>0.605785</td>\n",
       "      <td>-0.334521</td>\n",
       "      <td>-0.442293</td>\n",
       "      <td>1.049932</td>\n",
       "      <td>0.227495</td>\n",
       "      <td>-0.626744</td>\n",
       "      <td>False</td>\n",
       "      <td>True</td>\n",
       "      <td>0</td>\n",
       "      <td>0</td>\n",
       "      <td>1</td>\n",
       "      <td>0</td>\n",
       "      <td>1</td>\n",
       "      <td>0</td>\n",
       "    </tr>\n",
       "    <tr>\n",
       "      <th>45278</th>\n",
       "      <td>-0.072642</td>\n",
       "      <td>0.605785</td>\n",
       "      <td>-0.334521</td>\n",
       "      <td>-0.442293</td>\n",
       "      <td>1.049932</td>\n",
       "      <td>-0.830881</td>\n",
       "      <td>0.493412</td>\n",
       "      <td>True</td>\n",
       "      <td>True</td>\n",
       "      <td>0</td>\n",
       "      <td>0</td>\n",
       "      <td>1</td>\n",
       "      <td>0</td>\n",
       "      <td>1</td>\n",
       "      <td>0</td>\n",
       "    </tr>\n",
       "    <tr>\n",
       "      <th>16398</th>\n",
       "      <td>0.458998</td>\n",
       "      <td>0.605785</td>\n",
       "      <td>-0.334521</td>\n",
       "      <td>-0.442293</td>\n",
       "      <td>1.049932</td>\n",
       "      <td>0.660308</td>\n",
       "      <td>0.493412</td>\n",
       "      <td>True</td>\n",
       "      <td>True</td>\n",
       "      <td>1</td>\n",
       "      <td>0</td>\n",
       "      <td>0</td>\n",
       "      <td>1</td>\n",
       "      <td>0</td>\n",
       "      <td>0</td>\n",
       "    </tr>\n",
       "    <tr>\n",
       "      <th>13653</th>\n",
       "      <td>-0.338462</td>\n",
       "      <td>0.605785</td>\n",
       "      <td>-0.334521</td>\n",
       "      <td>-0.442293</td>\n",
       "      <td>1.049932</td>\n",
       "      <td>6.032791</td>\n",
       "      <td>0.493412</td>\n",
       "      <td>False</td>\n",
       "      <td>True</td>\n",
       "      <td>0</td>\n",
       "      <td>0</td>\n",
       "      <td>1</td>\n",
       "      <td>0</td>\n",
       "      <td>1</td>\n",
       "      <td>0</td>\n",
       "    </tr>\n",
       "  </tbody>\n",
       "</table>\n",
       "</div>"
      ],
      "text/plain": [
       "       trips_in_first_30_days  avg_rating_of_driver  avg_surge  surge_pct  \\\n",
       "39087               -0.338462              0.605785  -0.334521  -0.442293   \n",
       "30893               -0.338462              0.605785  -0.334521  -0.442293   \n",
       "45278               -0.072642              0.605785  -0.334521  -0.442293   \n",
       "16398                0.458998              0.605785  -0.334521  -0.442293   \n",
       "13653               -0.338462              0.605785  -0.334521  -0.442293   \n",
       "\n",
       "       weekday_pct  avg_dist  avg_rating_by_driver  ultimate_black_user  \\\n",
       "39087     1.049932 -0.792330              0.493412                 True   \n",
       "30893     1.049932  0.227495             -0.626744                False   \n",
       "45278     1.049932 -0.830881              0.493412                 True   \n",
       "16398     1.049932  0.660308              0.493412                 True   \n",
       "13653     1.049932  6.032791              0.493412                False   \n",
       "\n",
       "       active  encode_Astapor  encode_King's Landing  encode_Winterfell  \\\n",
       "39087    True               0                      0                  1   \n",
       "30893    True               0                      0                  1   \n",
       "45278    True               0                      0                  1   \n",
       "16398    True               1                      0                  0   \n",
       "13653    True               0                      0                  1   \n",
       "\n",
       "       encode_Android  encode_iPhone  encode_unknown  \n",
       "39087               0              1               0  \n",
       "30893               0              1               0  \n",
       "45278               0              1               0  \n",
       "16398               1              0               0  \n",
       "13653               0              1               0  "
      ]
     },
     "execution_count": 36,
     "metadata": {},
     "output_type": "execute_result"
    }
   ],
   "source": [
    "# scale first\n",
    "X_train_scaled, X_test_scaled = scale_with_bools(X_train, StandardScaler(), \"encode|ultimate_black_user|active\", X_test= X_test)\n",
    "X_train_scaled.head()"
   ]
  },
  {
   "cell_type": "code",
   "execution_count": 37,
   "id": "dominant-discussion",
   "metadata": {
    "ExecuteTime": {
     "end_time": "2021-06-28T19:38:52.075073Z",
     "start_time": "2021-06-28T19:38:51.870953Z"
    }
   },
   "outputs": [
    {
     "name": "stdout",
     "output_type": "stream",
     "text": [
      "<class 'pandas.core.frame.DataFrame'>\n",
      "Int64Index: 10000 entries, 33553 to 5857\n",
      "Data columns (total 15 columns):\n",
      " #   Column                  Non-Null Count  Dtype  \n",
      "---  ------                  --------------  -----  \n",
      " 0   trips_in_first_30_days  10000 non-null  float64\n",
      " 1   avg_rating_of_driver    10000 non-null  float64\n",
      " 2   avg_surge               10000 non-null  float64\n",
      " 3   surge_pct               10000 non-null  float64\n",
      " 4   weekday_pct             10000 non-null  float64\n",
      " 5   avg_dist                10000 non-null  float64\n",
      " 6   avg_rating_by_driver    10000 non-null  float64\n",
      " 7   ultimate_black_user     10000 non-null  bool   \n",
      " 8   active                  10000 non-null  bool   \n",
      " 9   encode_Astapor          10000 non-null  uint8  \n",
      " 10  encode_King's Landing   10000 non-null  uint8  \n",
      " 11  encode_Winterfell       10000 non-null  uint8  \n",
      " 12  encode_Android          10000 non-null  uint8  \n",
      " 13  encode_iPhone           10000 non-null  uint8  \n",
      " 14  encode_unknown          10000 non-null  uint8  \n",
      "dtypes: bool(2), float64(7), uint8(6)\n",
      "memory usage: 961.2 KB\n"
     ]
    }
   ],
   "source": [
    "# confirm things look ok\n",
    "X_test_scaled.info()"
   ]
  },
  {
   "cell_type": "code",
   "execution_count": 38,
   "id": "vulnerable-society",
   "metadata": {
    "ExecuteTime": {
     "end_time": "2021-06-28T19:38:52.260744Z",
     "start_time": "2021-06-28T19:38:52.080917Z"
    }
   },
   "outputs": [
    {
     "name": "stdout",
     "output_type": "stream",
     "text": [
      "<class 'pandas.core.frame.DataFrame'>\n",
      "Int64Index: 40000 entries, 39087 to 15795\n",
      "Data columns (total 15 columns):\n",
      " #   Column                  Non-Null Count  Dtype  \n",
      "---  ------                  --------------  -----  \n",
      " 0   trips_in_first_30_days  40000 non-null  float64\n",
      " 1   avg_rating_of_driver    40000 non-null  float64\n",
      " 2   avg_surge               40000 non-null  float64\n",
      " 3   surge_pct               40000 non-null  float64\n",
      " 4   weekday_pct             40000 non-null  float64\n",
      " 5   avg_dist                40000 non-null  float64\n",
      " 6   avg_rating_by_driver    40000 non-null  float64\n",
      " 7   ultimate_black_user     40000 non-null  bool   \n",
      " 8   active                  40000 non-null  bool   \n",
      " 9   encode_Astapor          40000 non-null  uint8  \n",
      " 10  encode_King's Landing   40000 non-null  uint8  \n",
      " 11  encode_Winterfell       40000 non-null  uint8  \n",
      " 12  encode_Android          40000 non-null  uint8  \n",
      " 13  encode_iPhone           40000 non-null  uint8  \n",
      " 14  encode_unknown          40000 non-null  uint8  \n",
      "dtypes: bool(2), float64(7), uint8(6)\n",
      "memory usage: 3.8 MB\n"
     ]
    }
   ],
   "source": [
    "X_train_scaled.info()"
   ]
  },
  {
   "cell_type": "code",
   "execution_count": 44,
   "id": "viral-notion",
   "metadata": {
    "ExecuteTime": {
     "end_time": "2021-06-28T20:25:11.294690Z",
     "start_time": "2021-06-28T20:25:10.775528Z"
    }
   },
   "outputs": [
    {
     "data": {
      "text/plain": [
       "PCA()"
      ]
     },
     "execution_count": 44,
     "metadata": {},
     "output_type": "execute_result"
    }
   ],
   "source": [
    "# Create a PCA instance: model\n",
    "PCAmodel = PCA()\n",
    "# Fit model to points\n",
    "PCAmodel.fit(X_train_scaled)\n"
   ]
  },
  {
   "cell_type": "code",
   "execution_count": 45,
   "id": "forced-commander",
   "metadata": {
    "ExecuteTime": {
     "end_time": "2021-06-28T20:25:11.421351Z",
     "start_time": "2021-06-28T20:25:11.297683Z"
    }
   },
   "outputs": [],
   "source": [
    "PCA_X_train = PCAmodel.transform(X_train_scaled)\n",
    "PCA_X_test = PCAmodel.transform(X_test_scaled)\n",
    "\n",
    "rfRandSearchPCA = RandomizedSearchCV(rfPipe, param_distributions=grid_params_rf, n_jobs=-1, n_iter=10)"
   ]
  },
  {
   "cell_type": "code",
   "execution_count": 46,
   "id": "under-container",
   "metadata": {
    "ExecuteTime": {
     "end_time": "2021-06-28T20:38:03.210690Z",
     "start_time": "2021-06-28T20:25:11.425349Z"
    }
   },
   "outputs": [
    {
     "data": {
      "text/plain": [
       "{'randomforestclassifier__n_estimators': 115,\n",
       " 'randomforestclassifier__min_samples_split': 11}"
      ]
     },
     "execution_count": 46,
     "metadata": {},
     "output_type": "execute_result"
    }
   ],
   "source": [
    "# Fit PCA model on random forest pipeline\n",
    "rfRandSearchPCA.fit(PCA_X_train, y_train)\n",
    "\n",
    "y_tr_rf = rfRandSearchPCA.predict(PCA_X_train)\n",
    "y_te_rf = rfRandSearchPCA.predict(PCA_X_test)\n",
    "rfRandSearchPCA.best_params_"
   ]
  },
  {
   "cell_type": "code",
   "execution_count": 47,
   "id": "solid-assumption",
   "metadata": {
    "ExecuteTime": {
     "end_time": "2021-06-28T20:38:04.825397Z",
     "start_time": "2021-06-28T20:38:03.384255Z"
    }
   },
   "outputs": [
    {
     "name": "stdout",
     "output_type": "stream",
     "text": [
      "Train score: 0.53695\n",
      "Test score: 0.5334\n"
     ]
    }
   ],
   "source": [
    "# Print scores\n",
    "print(\"Train score:\", rfRandSearchPCA.score(X_train, y_train))\n",
    "print(\"Test score:\", rfRandSearchPCA.score(X_test, y_test))\n"
   ]
  },
  {
   "cell_type": "markdown",
   "id": "opened-circus",
   "metadata": {},
   "source": [
    "#### Logistic Regression"
   ]
  },
  {
   "cell_type": "code",
   "execution_count": 48,
   "id": "tracked-consolidation",
   "metadata": {
    "ExecuteTime": {
     "end_time": "2021-06-28T20:38:44.415696Z",
     "start_time": "2021-06-28T20:38:04.837365Z"
    }
   },
   "outputs": [
    {
     "name": "stdout",
     "output_type": "stream",
     "text": [
      "Best params:  {'C': 0.1, 'solver': 'liblinear'}\n",
      "accuracy train data:  0.679\n",
      "accuracy test data:  0.6682\n"
     ]
    }
   ],
   "source": [
    "# Model data\n",
    "Cs = [0.001, 0.1, 1, 10]\n",
    "LogReg = LogisticRegression()\n",
    "gs_logreg = GridSearchCV(LogReg, param_grid={'C':Cs, \n",
    "                                             'solver':['newton-cg', 'lbfgs', 'liblinear', 'saga']})\n",
    "gs_logreg.fit(X_train_scaled, y_train)\n",
    "\n",
    "print(\"Best params: \", gs_logreg.best_params_)\n",
    "print(\"accuracy train data: \", gs_logreg.score(X_train_scaled, y_train))\n",
    "\n",
    "print(\"accuracy test data: \", gs_logreg.score(X_test_scaled, y_test))"
   ]
  },
  {
   "cell_type": "markdown",
   "id": "greatest-uzbekistan",
   "metadata": {},
   "source": [
    "##### Logistic regression with PCA"
   ]
  },
  {
   "cell_type": "code",
   "execution_count": 49,
   "id": "renewable-fellowship",
   "metadata": {
    "ExecuteTime": {
     "end_time": "2021-06-28T20:39:05.692055Z",
     "start_time": "2021-06-28T20:38:44.527783Z"
    }
   },
   "outputs": [
    {
     "name": "stdout",
     "output_type": "stream",
     "text": [
      "Best params:  {'C': 1, 'solver': 'newton-cg'}\n",
      "accuracy train data:  0.678725\n",
      "accuracy test data:  0.6683\n"
     ]
    }
   ],
   "source": [
    "# Model data\n",
    "\n",
    "gs_logreg_PCA = GridSearchCV(LogReg, param_grid={'C':Cs, \n",
    "                                             'solver':['newton-cg', 'lbfgs', 'liblinear', 'saga']})\n",
    "gs_logreg_PCA.fit(PCA_X_train, y_train)\n",
    "\n",
    "print(\"Best params: \", gs_logreg_PCA.best_params_)\n",
    "print(\"accuracy train data: \", gs_logreg_PCA.score(PCA_X_train, y_train))\n",
    "\n",
    "print(\"accuracy test data: \", gs_logreg_PCA.score(PCA_X_test, y_test))"
   ]
  },
  {
   "cell_type": "markdown",
   "id": "engaged-radiation",
   "metadata": {},
   "source": [
    "### Summary of algorithms\n",
    "\n",
    "**Test scores for each**\n",
    "\n",
    "    Random forest: 0.7519\n",
    "\n",
    "    Random Forest with PCA: 0.5334\n",
    "\n",
    "    Logistic Regression: 0.6682\n",
    "\n",
    "    Logistic Regression with PCA: 0.6683\n",
    "\n",
    "Clearly Random forest without PCA performed the best.  More tuning might change this, but I'll use RF for now.\n"
   ]
  },
  {
   "cell_type": "markdown",
   "id": "disturbed-playlist",
   "metadata": {},
   "source": [
    "## Model Validity"
   ]
  },
  {
   "cell_type": "code",
   "execution_count": 70,
   "id": "scheduled-trigger",
   "metadata": {
    "ExecuteTime": {
     "end_time": "2021-06-28T21:10:30.217631Z",
     "start_time": "2021-06-28T21:10:30.090486Z"
    }
   },
   "outputs": [
    {
     "data": {
      "text/plain": [
       "False    5489\n",
       "True     4511\n",
       "Name: active_after_6_months, dtype: int64"
      ]
     },
     "execution_count": 70,
     "metadata": {},
     "output_type": "execute_result"
    }
   ],
   "source": [
    "# How imbalanced is this data?\n",
    "y_test.value_counts()\n",
    "# not very imbalanced."
   ]
  },
  {
   "cell_type": "code",
   "execution_count": 73,
   "id": "polar-welcome",
   "metadata": {
    "ExecuteTime": {
     "end_time": "2021-06-28T21:15:53.872954Z",
     "start_time": "2021-06-28T21:15:53.809908Z"
    }
   },
   "outputs": [
    {
     "data": {
      "text/plain": [
       "(array([False,  True]), array([5668, 4332], dtype=int64))"
      ]
     },
     "execution_count": 73,
     "metadata": {},
     "output_type": "execute_result"
    }
   ],
   "source": [
    "np.unique(y_te_rf, return_counts=True)"
   ]
  },
  {
   "cell_type": "code",
   "execution_count": 71,
   "id": "realistic-samoa",
   "metadata": {
    "ExecuteTime": {
     "end_time": "2021-06-28T21:11:23.565054Z",
     "start_time": "2021-06-28T21:11:23.543114Z"
    }
   },
   "outputs": [
    {
     "data": {
      "text/plain": [
       "False    22017\n",
       "True     17983\n",
       "Name: active_after_6_months, dtype: int64"
      ]
     },
     "execution_count": 71,
     "metadata": {},
     "output_type": "execute_result"
    }
   ],
   "source": [
    "y_train.value_counts()"
   ]
  },
  {
   "cell_type": "code",
   "execution_count": 84,
   "id": "sized-logistics",
   "metadata": {
    "ExecuteTime": {
     "end_time": "2021-06-28T21:25:50.872366Z",
     "start_time": "2021-06-28T21:25:49.878013Z"
    }
   },
   "outputs": [
    {
     "data": {
      "image/png": "[encoded data removed]",
      "text/plain": [
       "<Figure size 432x288 with 2 Axes>"
      ]
     },
     "metadata": {
      "needs_background": "light"
     },
     "output_type": "display_data"
    }
   ],
   "source": [
    "# Look at the best models\n",
    "plot_confusion_matrix(rfRandSearch.best_estimator_, X_test, y_test, \n",
    "                     display_labels=['Active User','Inactive User'],\n",
    "                     cmap=plt.cm.Blues,\n",
    "                     normalize='true');\n"
   ]
  },
  {
   "cell_type": "code",
   "execution_count": 62,
   "id": "social-series",
   "metadata": {
    "ExecuteTime": {
     "end_time": "2021-06-28T21:04:18.549675Z",
     "start_time": "2021-06-28T21:04:18.505757Z"
    }
   },
   "outputs": [
    {
     "data": {
      "text/plain": [
       "{'False': {'precision': 0.755469301340861,\n",
       "  'recall': 0.780105665877209,\n",
       "  'f1-score': 0.7675898539033791,\n",
       "  'support': 5489},\n",
       " 'True': {'precision': 0.721375807940905,\n",
       "  'recall': 0.6927510529816006,\n",
       "  'f1-score': 0.7067737193260206,\n",
       "  'support': 4511},\n",
       " 'accuracy': 0.7407,\n",
       " 'macro avg': {'precision': 0.7384225546408829,\n",
       "  'recall': 0.7364283594294048,\n",
       "  'f1-score': 0.7371817866146999,\n",
       "  'support': 10000},\n",
       " 'weighted avg': {'precision': 0.7400897264681408,\n",
       "  'recall': 0.7407,\n",
       "  'f1-score': 0.7401556955955327,\n",
       "  'support': 10000}}"
      ]
     },
     "execution_count": 62,
     "metadata": {},
     "output_type": "execute_result"
    }
   ],
   "source": [
    "# y_tr_rf = train predict\n",
    "# y_te_rf = test predict\n",
    "classification_report(y_test, y_te_rf, output_dict=True)"
   ]
  },
  {
   "cell_type": "markdown",
   "id": "stuck-morocco",
   "metadata": {},
   "source": []
  },
  {
   "cell_type": "markdown",
   "id": "naked-dialogue",
   "metadata": {},
   "source": []
  }
 ],
 "metadata": {
  "kernelspec": {
   "display_name": "Python 3",
   "language": "python",
   "name": "python3"
  },
  "language_info": {
   "codemirror_mode": {
    "name": "ipython",
    "version": 3
   },
   "file_extension": ".py",
   "mimetype": "text/x-python",
   "name": "python",
   "nbconvert_exporter": "python",
   "pygments_lexer": "ipython3",
   "version": "3.7.3"
  },
  "toc": {
   "base_numbering": 1,
   "nav_menu": {},
   "number_sections": true,
   "sideBar": true,
   "skip_h1_title": false,
   "title_cell": "Table of Contents",
   "title_sidebar": "Contents",
   "toc_cell": false,
   "toc_position": {},
   "toc_section_display": true,
   "toc_window_display": false
  }
 },
 "nbformat": 4,
 "nbformat_minor": 5
}
