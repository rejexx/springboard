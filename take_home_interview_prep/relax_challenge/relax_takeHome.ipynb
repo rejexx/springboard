{
 "cells": [
  {
   "cell_type": "markdown",
   "id": "informal-enhancement",
   "metadata": {},
   "source": [
    "# Relax Inc.\n",
    "Mock Take home challenge\n",
    "\n",
    "Defining an \"adopted user\" as a user who has logged into the product on three separate days in at least one seven day\n",
    "period , __identify which factors predict future user adoption .__"
   ]
  },
  {
   "cell_type": "code",
   "execution_count": 162,
   "id": "coral-differential",
   "metadata": {
    "ExecuteTime": {
     "end_time": "2021-07-05T23:38:53.746686Z",
     "start_time": "2021-07-05T23:38:53.736198Z"
    }
   },
   "outputs": [
    {
     "name": "stdout",
     "output_type": "stream",
     "text": [
      "1.2.4\n"
     ]
    }
   ],
   "source": [
    "# Imports\n",
    "import numpy as np\n",
    "import pandas as pd\n",
    "\n",
    "import seaborn as sns\n",
    "import matplotlib.pyplot as plt\n",
    "from pandas_profiling import ProfileReport\n",
    "print(pd.__version__)\n",
    "\n",
    "from sklearn import __version__ as sklearn_version\n",
    "from sklearn.preprocessing import StandardScaler\n",
    "from sklearn.model_selection import train_test_split, cross_validate, GridSearchCV, RandomizedSearchCV\n",
    "from sklearn.linear_model import LogisticRegression\n",
    "from sklearn.ensemble import RandomForestClassifier\n",
    "from sklearn.metrics import confusion_matrix, plot_confusion_matrix, classification_report\n",
    "from sklearn.pipeline import make_pipeline"
   ]
  },
  {
   "cell_type": "code",
   "execution_count": 163,
   "id": "threaded-honduras",
   "metadata": {
    "ExecuteTime": {
     "end_time": "2021-07-05T23:38:54.396276Z",
     "start_time": "2021-07-05T23:38:53.749680Z"
    }
   },
   "outputs": [
    {
     "name": "stdout",
     "output_type": "stream",
     "text": [
      "user_visits\n"
     ]
    },
    {
     "data": {
      "text/html": [
       "<div>\n",
       "<style scoped>\n",
       "    .dataframe tbody tr th:only-of-type {\n",
       "        vertical-align: middle;\n",
       "    }\n",
       "\n",
       "    .dataframe tbody tr th {\n",
       "        vertical-align: top;\n",
       "    }\n",
       "\n",
       "    .dataframe thead th {\n",
       "        text-align: right;\n",
       "    }\n",
       "</style>\n",
       "<table border=\"1\" class=\"dataframe\">\n",
       "  <thead>\n",
       "    <tr style=\"text-align: right;\">\n",
       "      <th></th>\n",
       "      <th>time_stamp</th>\n",
       "      <th>user_id</th>\n",
       "      <th>visited</th>\n",
       "    </tr>\n",
       "  </thead>\n",
       "  <tbody>\n",
       "    <tr>\n",
       "      <th>0</th>\n",
       "      <td>2014-04-22 03:53:30</td>\n",
       "      <td>1</td>\n",
       "      <td>1</td>\n",
       "    </tr>\n",
       "    <tr>\n",
       "      <th>1</th>\n",
       "      <td>2013-11-15 03:45:04</td>\n",
       "      <td>2</td>\n",
       "      <td>1</td>\n",
       "    </tr>\n",
       "    <tr>\n",
       "      <th>2</th>\n",
       "      <td>2013-11-29 03:45:04</td>\n",
       "      <td>2</td>\n",
       "      <td>1</td>\n",
       "    </tr>\n",
       "    <tr>\n",
       "      <th>3</th>\n",
       "      <td>2013-12-09 03:45:04</td>\n",
       "      <td>2</td>\n",
       "      <td>1</td>\n",
       "    </tr>\n",
       "    <tr>\n",
       "      <th>4</th>\n",
       "      <td>2013-12-25 03:45:04</td>\n",
       "      <td>2</td>\n",
       "      <td>1</td>\n",
       "    </tr>\n",
       "  </tbody>\n",
       "</table>\n",
       "</div>"
      ],
      "text/plain": [
       "           time_stamp  user_id  visited\n",
       "0 2014-04-22 03:53:30        1        1\n",
       "1 2013-11-15 03:45:04        2        1\n",
       "2 2013-11-29 03:45:04        2        1\n",
       "3 2013-12-09 03:45:04        2        1\n",
       "4 2013-12-25 03:45:04        2        1"
      ]
     },
     "metadata": {},
     "output_type": "display_data"
    },
    {
     "name": "stdout",
     "output_type": "stream",
     "text": [
      "user_data\n"
     ]
    },
    {
     "data": {
      "text/html": [
       "<div>\n",
       "<style scoped>\n",
       "    .dataframe tbody tr th:only-of-type {\n",
       "        vertical-align: middle;\n",
       "    }\n",
       "\n",
       "    .dataframe tbody tr th {\n",
       "        vertical-align: top;\n",
       "    }\n",
       "\n",
       "    .dataframe thead th {\n",
       "        text-align: right;\n",
       "    }\n",
       "</style>\n",
       "<table border=\"1\" class=\"dataframe\">\n",
       "  <thead>\n",
       "    <tr style=\"text-align: right;\">\n",
       "      <th></th>\n",
       "      <th>object_id</th>\n",
       "      <th>creation_time</th>\n",
       "      <th>name</th>\n",
       "      <th>email</th>\n",
       "      <th>creation_source</th>\n",
       "      <th>last_session_creation_time</th>\n",
       "      <th>opted_in_to_mailing_list</th>\n",
       "      <th>enabled_for_marketing_drip</th>\n",
       "      <th>org_id</th>\n",
       "      <th>invited_by_user_id</th>\n",
       "    </tr>\n",
       "  </thead>\n",
       "  <tbody>\n",
       "    <tr>\n",
       "      <th>0</th>\n",
       "      <td>1</td>\n",
       "      <td>2014-04-22 03:53:30</td>\n",
       "      <td>Clausen August</td>\n",
       "      <td>AugustCClausen@yahoo.com</td>\n",
       "      <td>GUEST_INVITE</td>\n",
       "      <td>2014-04-22 03:53:30</td>\n",
       "      <td>1</td>\n",
       "      <td>0</td>\n",
       "      <td>11</td>\n",
       "      <td>10803.0</td>\n",
       "    </tr>\n",
       "    <tr>\n",
       "      <th>1</th>\n",
       "      <td>2</td>\n",
       "      <td>2013-11-15 03:45:04</td>\n",
       "      <td>Poole Matthew</td>\n",
       "      <td>MatthewPoole@gustr.com</td>\n",
       "      <td>ORG_INVITE</td>\n",
       "      <td>2014-03-31 03:45:04</td>\n",
       "      <td>0</td>\n",
       "      <td>0</td>\n",
       "      <td>1</td>\n",
       "      <td>316.0</td>\n",
       "    </tr>\n",
       "    <tr>\n",
       "      <th>2</th>\n",
       "      <td>3</td>\n",
       "      <td>2013-03-19 23:14:52</td>\n",
       "      <td>Bottrill Mitchell</td>\n",
       "      <td>MitchellBottrill@gustr.com</td>\n",
       "      <td>ORG_INVITE</td>\n",
       "      <td>2013-03-19 23:14:52</td>\n",
       "      <td>0</td>\n",
       "      <td>0</td>\n",
       "      <td>94</td>\n",
       "      <td>1525.0</td>\n",
       "    </tr>\n",
       "    <tr>\n",
       "      <th>3</th>\n",
       "      <td>4</td>\n",
       "      <td>2013-05-21 08:09:28</td>\n",
       "      <td>Clausen Nicklas</td>\n",
       "      <td>NicklasSClausen@yahoo.com</td>\n",
       "      <td>GUEST_INVITE</td>\n",
       "      <td>2013-05-22 08:09:28</td>\n",
       "      <td>0</td>\n",
       "      <td>0</td>\n",
       "      <td>1</td>\n",
       "      <td>5151.0</td>\n",
       "    </tr>\n",
       "    <tr>\n",
       "      <th>4</th>\n",
       "      <td>5</td>\n",
       "      <td>2013-01-17 10:14:20</td>\n",
       "      <td>Raw Grace</td>\n",
       "      <td>GraceRaw@yahoo.com</td>\n",
       "      <td>GUEST_INVITE</td>\n",
       "      <td>2013-01-22 10:14:20</td>\n",
       "      <td>0</td>\n",
       "      <td>0</td>\n",
       "      <td>193</td>\n",
       "      <td>5240.0</td>\n",
       "    </tr>\n",
       "  </tbody>\n",
       "</table>\n",
       "</div>"
      ],
      "text/plain": [
       "   object_id       creation_time               name  \\\n",
       "0          1 2014-04-22 03:53:30     Clausen August   \n",
       "1          2 2013-11-15 03:45:04      Poole Matthew   \n",
       "2          3 2013-03-19 23:14:52  Bottrill Mitchell   \n",
       "3          4 2013-05-21 08:09:28    Clausen Nicklas   \n",
       "4          5 2013-01-17 10:14:20          Raw Grace   \n",
       "\n",
       "                        email creation_source last_session_creation_time  \\\n",
       "0    AugustCClausen@yahoo.com    GUEST_INVITE        2014-04-22 03:53:30   \n",
       "1      MatthewPoole@gustr.com      ORG_INVITE        2014-03-31 03:45:04   \n",
       "2  MitchellBottrill@gustr.com      ORG_INVITE        2013-03-19 23:14:52   \n",
       "3   NicklasSClausen@yahoo.com    GUEST_INVITE        2013-05-22 08:09:28   \n",
       "4          GraceRaw@yahoo.com    GUEST_INVITE        2013-01-22 10:14:20   \n",
       "\n",
       "   opted_in_to_mailing_list  enabled_for_marketing_drip  org_id  \\\n",
       "0                         1                           0      11   \n",
       "1                         0                           0       1   \n",
       "2                         0                           0      94   \n",
       "3                         0                           0       1   \n",
       "4                         0                           0     193   \n",
       "\n",
       "   invited_by_user_id  \n",
       "0             10803.0  \n",
       "1               316.0  \n",
       "2              1525.0  \n",
       "3              5151.0  \n",
       "4              5240.0  "
      ]
     },
     "metadata": {},
     "output_type": "display_data"
    }
   ],
   "source": [
    "# Load data\n",
    "user_visits = pd.read_csv(\"takehome_user_engagement.csv\", parse_dates=True, infer_datetime_format=True)\n",
    "user_data = pd.read_csv(\"takehome_users.csv\", parse_dates=True, infer_datetime_format=True)\n",
    "\n",
    "user_visits[\"time_stamp\"] = pd.to_datetime(user_visits[\"time_stamp\"], infer_datetime_format =True)\n",
    "\n",
    "user_data[\"creation_time\"] = pd.to_datetime(user_data[\"creation_time\"], infer_datetime_format =True)\n",
    "# convert unix datetime into pandas date time\n",
    "user_data[\"last_session_creation_time\"] = pd.to_datetime(user_data[\"last_session_creation_time\"], unit='s')\n",
    "\n",
    "print(\"user_visits\")\n",
    "display(user_visits.head())\n",
    "\n",
    "\n",
    "print(\"user_data\")\n",
    "display(user_data.head())"
   ]
  },
  {
   "cell_type": "markdown",
   "id": "objective-broad",
   "metadata": {},
   "source": [
    "## EDA"
   ]
  },
  {
   "cell_type": "code",
   "execution_count": 164,
   "id": "hispanic-browser",
   "metadata": {
    "ExecuteTime": {
     "end_time": "2021-07-05T23:38:54.428210Z",
     "start_time": "2021-07-05T23:38:54.399233Z"
    }
   },
   "outputs": [
    {
     "name": "stdout",
     "output_type": "stream",
     "text": [
      "<class 'pandas.core.frame.DataFrame'>\n",
      "RangeIndex: 207917 entries, 0 to 207916\n",
      "Data columns (total 3 columns):\n",
      " #   Column      Non-Null Count   Dtype         \n",
      "---  ------      --------------   -----         \n",
      " 0   time_stamp  207917 non-null  datetime64[ns]\n",
      " 1   user_id     207917 non-null  int64         \n",
      " 2   visited     207917 non-null  int64         \n",
      "dtypes: datetime64[ns](1), int64(2)\n",
      "memory usage: 4.8 MB\n"
     ]
    }
   ],
   "source": [
    "user_visits.info()"
   ]
  },
  {
   "cell_type": "code",
   "execution_count": 165,
   "id": "atomic-receptor",
   "metadata": {
    "ExecuteTime": {
     "end_time": "2021-07-05T23:38:54.523958Z",
     "start_time": "2021-07-05T23:38:54.438129Z"
    }
   },
   "outputs": [
    {
     "name": "stdout",
     "output_type": "stream",
     "text": [
      "<class 'pandas.core.frame.DataFrame'>\n",
      "RangeIndex: 12000 entries, 0 to 11999\n",
      "Data columns (total 10 columns):\n",
      " #   Column                      Non-Null Count  Dtype         \n",
      "---  ------                      --------------  -----         \n",
      " 0   object_id                   12000 non-null  int64         \n",
      " 1   creation_time               12000 non-null  datetime64[ns]\n",
      " 2   name                        12000 non-null  object        \n",
      " 3   email                       12000 non-null  object        \n",
      " 4   creation_source             12000 non-null  object        \n",
      " 5   last_session_creation_time  8823 non-null   datetime64[ns]\n",
      " 6   opted_in_to_mailing_list    12000 non-null  int64         \n",
      " 7   enabled_for_marketing_drip  12000 non-null  int64         \n",
      " 8   org_id                      12000 non-null  int64         \n",
      " 9   invited_by_user_id          6417 non-null   float64       \n",
      "dtypes: datetime64[ns](2), float64(1), int64(4), object(3)\n",
      "memory usage: 937.6+ KB\n"
     ]
    }
   ],
   "source": [
    "#Convert to date time object\n",
    "user_data[\"last_session_creation_time\"] = pd.to_datetime(user_data[\"last_session_creation_time\"], unit='s')\n",
    "\n",
    "user_data.info()"
   ]
  },
  {
   "cell_type": "code",
   "execution_count": 166,
   "id": "atomic-brain",
   "metadata": {
    "ExecuteTime": {
     "end_time": "2021-07-05T23:38:54.584773Z",
     "start_time": "2021-07-05T23:38:54.527888Z"
    }
   },
   "outputs": [],
   "source": [
    "# Remove comment to run, this takes a little while, so I've turned it off \n",
    "#profile = ProfileReport(user_data, title=\"Pandas Profiling Report\")\n",
    "#profile.to_widgets()"
   ]
  },
  {
   "cell_type": "code",
   "execution_count": 167,
   "id": "nominated-invalid",
   "metadata": {
    "ExecuteTime": {
     "end_time": "2021-07-05T23:38:54.695451Z",
     "start_time": "2021-07-05T23:38:54.586730Z"
    }
   },
   "outputs": [
    {
     "data": {
      "text/plain": [
       "1    207917\n",
       "Name: visited, dtype: int64"
      ]
     },
     "execution_count": 167,
     "metadata": {},
     "output_type": "execute_result"
    }
   ],
   "source": [
    "#Confirm this column just contains '1'\n",
    "user_visits.visited.value_counts()\n",
    "#user_visits=user_visits.drop('visited', axis='columns')\n"
   ]
  },
  {
   "cell_type": "code",
   "execution_count": 168,
   "id": "rotary-platform",
   "metadata": {
    "ExecuteTime": {
     "end_time": "2021-07-05T23:38:55.031754Z",
     "start_time": "2021-07-05T23:38:54.714391Z"
    }
   },
   "outputs": [
    {
     "data": {
      "text/plain": [
       "<AxesSubplot:>"
      ]
     },
     "execution_count": 168,
     "metadata": {},
     "output_type": "execute_result"
    },
    {
     "data": {
      "image/png": "[encoded data removed]",
      "text/plain": [
       "<Figure size 432x288 with 1 Axes>"
      ]
     },
     "metadata": {
      "needs_background": "light"
     },
     "output_type": "display_data"
    }
   ],
   "source": [
    "# Set time stamp as index\n",
    "#visits per 7 dayy window by user\n",
    "user_visits = user_visits.set_index('time_stamp')\n",
    "\n",
    "visit_count = user_visits.groupby(\"user_id\").count()\n",
    "visit_count.visited[visit_count.visited > 1].hist(bins=40)"
   ]
  },
  {
   "cell_type": "code",
   "execution_count": 169,
   "id": "mental-transaction",
   "metadata": {
    "ExecuteTime": {
     "end_time": "2021-07-05T23:38:55.062861Z",
     "start_time": "2021-07-05T23:38:55.031754Z"
    }
   },
   "outputs": [
    {
     "data": {
      "text/plain": [
       "visited    606\n",
       "dtype: int64"
      ]
     },
     "execution_count": 169,
     "metadata": {},
     "output_type": "execute_result"
    }
   ],
   "source": [
    "# Max visits by any user\n",
    "user_visits.groupby(\"user_id\").count().max()"
   ]
  },
  {
   "cell_type": "code",
   "execution_count": 170,
   "id": "smoking-pattern",
   "metadata": {
    "ExecuteTime": {
     "end_time": "2021-07-05T23:38:55.110729Z",
     "start_time": "2021-07-05T23:38:55.070872Z"
    }
   },
   "outputs": [
    {
     "data": {
      "text/html": [
       "<div>\n",
       "<style scoped>\n",
       "    .dataframe tbody tr th:only-of-type {\n",
       "        vertical-align: middle;\n",
       "    }\n",
       "\n",
       "    .dataframe tbody tr th {\n",
       "        vertical-align: top;\n",
       "    }\n",
       "\n",
       "    .dataframe thead th {\n",
       "        text-align: right;\n",
       "    }\n",
       "</style>\n",
       "<table border=\"1\" class=\"dataframe\">\n",
       "  <thead>\n",
       "    <tr style=\"text-align: right;\">\n",
       "      <th></th>\n",
       "      <th>user_id</th>\n",
       "      <th>visited</th>\n",
       "    </tr>\n",
       "    <tr>\n",
       "      <th>time_stamp</th>\n",
       "      <th></th>\n",
       "      <th></th>\n",
       "    </tr>\n",
       "  </thead>\n",
       "  <tbody>\n",
       "    <tr>\n",
       "      <th>2014-04-22 03:53:30</th>\n",
       "      <td>1</td>\n",
       "      <td>1</td>\n",
       "    </tr>\n",
       "    <tr>\n",
       "      <th>2013-11-15 03:45:04</th>\n",
       "      <td>2</td>\n",
       "      <td>1</td>\n",
       "    </tr>\n",
       "    <tr>\n",
       "      <th>2013-11-29 03:45:04</th>\n",
       "      <td>2</td>\n",
       "      <td>1</td>\n",
       "    </tr>\n",
       "    <tr>\n",
       "      <th>2013-12-09 03:45:04</th>\n",
       "      <td>2</td>\n",
       "      <td>1</td>\n",
       "    </tr>\n",
       "    <tr>\n",
       "      <th>2013-12-25 03:45:04</th>\n",
       "      <td>2</td>\n",
       "      <td>1</td>\n",
       "    </tr>\n",
       "    <tr>\n",
       "      <th>...</th>\n",
       "      <td>...</td>\n",
       "      <td>...</td>\n",
       "    </tr>\n",
       "    <tr>\n",
       "      <th>2013-09-06 06:14:15</th>\n",
       "      <td>11996</td>\n",
       "      <td>1</td>\n",
       "    </tr>\n",
       "    <tr>\n",
       "      <th>2013-01-15 18:28:37</th>\n",
       "      <td>11997</td>\n",
       "      <td>1</td>\n",
       "    </tr>\n",
       "    <tr>\n",
       "      <th>2014-04-27 12:45:16</th>\n",
       "      <td>11998</td>\n",
       "      <td>1</td>\n",
       "    </tr>\n",
       "    <tr>\n",
       "      <th>2012-06-02 11:55:59</th>\n",
       "      <td>11999</td>\n",
       "      <td>1</td>\n",
       "    </tr>\n",
       "    <tr>\n",
       "      <th>2014-01-26 08:57:12</th>\n",
       "      <td>12000</td>\n",
       "      <td>1</td>\n",
       "    </tr>\n",
       "  </tbody>\n",
       "</table>\n",
       "<p>207917 rows × 2 columns</p>\n",
       "</div>"
      ],
      "text/plain": [
       "                     user_id  visited\n",
       "time_stamp                           \n",
       "2014-04-22 03:53:30        1        1\n",
       "2013-11-15 03:45:04        2        1\n",
       "2013-11-29 03:45:04        2        1\n",
       "2013-12-09 03:45:04        2        1\n",
       "2013-12-25 03:45:04        2        1\n",
       "...                      ...      ...\n",
       "2013-09-06 06:14:15    11996        1\n",
       "2013-01-15 18:28:37    11997        1\n",
       "2014-04-27 12:45:16    11998        1\n",
       "2012-06-02 11:55:59    11999        1\n",
       "2014-01-26 08:57:12    12000        1\n",
       "\n",
       "[207917 rows x 2 columns]"
      ]
     },
     "execution_count": 170,
     "metadata": {},
     "output_type": "execute_result"
    }
   ],
   "source": [
    "user_visits"
   ]
  },
  {
   "cell_type": "code",
   "execution_count": 171,
   "id": "amazing-court",
   "metadata": {
    "ExecuteTime": {
     "end_time": "2021-07-05T23:38:55.903906Z",
     "start_time": "2021-07-05T23:38:55.121711Z"
    }
   },
   "outputs": [
    {
     "data": {
      "text/html": [
       "<div>\n",
       "<style scoped>\n",
       "    .dataframe tbody tr th:only-of-type {\n",
       "        vertical-align: middle;\n",
       "    }\n",
       "\n",
       "    .dataframe tbody tr th {\n",
       "        vertical-align: top;\n",
       "    }\n",
       "\n",
       "    .dataframe thead th {\n",
       "        text-align: right;\n",
       "    }\n",
       "</style>\n",
       "<table border=\"1\" class=\"dataframe\">\n",
       "  <thead>\n",
       "    <tr style=\"text-align: right;\">\n",
       "      <th></th>\n",
       "      <th></th>\n",
       "      <th>visited</th>\n",
       "    </tr>\n",
       "    <tr>\n",
       "      <th>user_id</th>\n",
       "      <th>time_stamp</th>\n",
       "      <th></th>\n",
       "    </tr>\n",
       "  </thead>\n",
       "  <tbody>\n",
       "    <tr>\n",
       "      <th>1</th>\n",
       "      <th>2014-04-22 03:53:30</th>\n",
       "      <td>1.0</td>\n",
       "    </tr>\n",
       "    <tr>\n",
       "      <th rowspan=\"14\" valign=\"top\">2</th>\n",
       "      <th>2013-11-15 03:45:04</th>\n",
       "      <td>1.0</td>\n",
       "    </tr>\n",
       "    <tr>\n",
       "      <th>2013-11-29 03:45:04</th>\n",
       "      <td>1.0</td>\n",
       "    </tr>\n",
       "    <tr>\n",
       "      <th>2013-12-09 03:45:04</th>\n",
       "      <td>1.0</td>\n",
       "    </tr>\n",
       "    <tr>\n",
       "      <th>2013-12-25 03:45:04</th>\n",
       "      <td>1.0</td>\n",
       "    </tr>\n",
       "    <tr>\n",
       "      <th>2013-12-31 03:45:04</th>\n",
       "      <td>2.0</td>\n",
       "    </tr>\n",
       "    <tr>\n",
       "      <th>2014-01-08 03:45:04</th>\n",
       "      <td>1.0</td>\n",
       "    </tr>\n",
       "    <tr>\n",
       "      <th>2014-02-03 03:45:04</th>\n",
       "      <td>1.0</td>\n",
       "    </tr>\n",
       "    <tr>\n",
       "      <th>2014-02-08 03:45:04</th>\n",
       "      <td>2.0</td>\n",
       "    </tr>\n",
       "    <tr>\n",
       "      <th>2014-02-09 03:45:04</th>\n",
       "      <td>3.0</td>\n",
       "    </tr>\n",
       "    <tr>\n",
       "      <th>2014-02-13 03:45:04</th>\n",
       "      <td>3.0</td>\n",
       "    </tr>\n",
       "    <tr>\n",
       "      <th>2014-02-16 03:45:04</th>\n",
       "      <td>2.0</td>\n",
       "    </tr>\n",
       "    <tr>\n",
       "      <th>2014-03-09 03:45:04</th>\n",
       "      <td>1.0</td>\n",
       "    </tr>\n",
       "    <tr>\n",
       "      <th>2014-03-13 03:45:04</th>\n",
       "      <td>2.0</td>\n",
       "    </tr>\n",
       "    <tr>\n",
       "      <th>2014-03-31 03:45:04</th>\n",
       "      <td>1.0</td>\n",
       "    </tr>\n",
       "    <tr>\n",
       "      <th>3</th>\n",
       "      <th>2013-03-19 23:14:52</th>\n",
       "      <td>1.0</td>\n",
       "    </tr>\n",
       "    <tr>\n",
       "      <th>4</th>\n",
       "      <th>2013-05-22 08:09:28</th>\n",
       "      <td>1.0</td>\n",
       "    </tr>\n",
       "    <tr>\n",
       "      <th>5</th>\n",
       "      <th>2013-01-22 10:14:20</th>\n",
       "      <td>1.0</td>\n",
       "    </tr>\n",
       "    <tr>\n",
       "      <th>6</th>\n",
       "      <th>2013-12-19 03:37:06</th>\n",
       "      <td>1.0</td>\n",
       "    </tr>\n",
       "    <tr>\n",
       "      <th>7</th>\n",
       "      <th>2012-12-20 13:24:32</th>\n",
       "      <td>1.0</td>\n",
       "    </tr>\n",
       "  </tbody>\n",
       "</table>\n",
       "</div>"
      ],
      "text/plain": [
       "                             visited\n",
       "user_id time_stamp                  \n",
       "1       2014-04-22 03:53:30      1.0\n",
       "2       2013-11-15 03:45:04      1.0\n",
       "        2013-11-29 03:45:04      1.0\n",
       "        2013-12-09 03:45:04      1.0\n",
       "        2013-12-25 03:45:04      1.0\n",
       "        2013-12-31 03:45:04      2.0\n",
       "        2014-01-08 03:45:04      1.0\n",
       "        2014-02-03 03:45:04      1.0\n",
       "        2014-02-08 03:45:04      2.0\n",
       "        2014-02-09 03:45:04      3.0\n",
       "        2014-02-13 03:45:04      3.0\n",
       "        2014-02-16 03:45:04      2.0\n",
       "        2014-03-09 03:45:04      1.0\n",
       "        2014-03-13 03:45:04      2.0\n",
       "        2014-03-31 03:45:04      1.0\n",
       "3       2013-03-19 23:14:52      1.0\n",
       "4       2013-05-22 08:09:28      1.0\n",
       "5       2013-01-22 10:14:20      1.0\n",
       "6       2013-12-19 03:37:06      1.0\n",
       "7       2012-12-20 13:24:32      1.0"
      ]
     },
     "execution_count": 171,
     "metadata": {},
     "output_type": "execute_result"
    }
   ],
   "source": [
    "# Get 7 day rolling sum\n",
    "user_visits = user_visits.sort_values(['user_id','time_stamp'])\n",
    "vists_per_7_days = user_visits.groupby('user_id').rolling('7D').sum()\n",
    "vists_per_7_days=vists_per_7_days.drop(\"user_id\", axis=\"columns\")\n",
    "#vists_per_7_days = pd.DataFrame(vists_per_7_days).droplevel(1).dropna()\n",
    "vists_per_7_days.head(20)"
   ]
  },
  {
   "cell_type": "code",
   "execution_count": 172,
   "id": "unique-affairs",
   "metadata": {
    "ExecuteTime": {
     "end_time": "2021-07-05T23:38:55.967700Z",
     "start_time": "2021-07-05T23:38:55.906866Z"
    },
    "scrolled": true
   },
   "outputs": [
    {
     "data": {
      "text/html": [
       "<div>\n",
       "<style scoped>\n",
       "    .dataframe tbody tr th:only-of-type {\n",
       "        vertical-align: middle;\n",
       "    }\n",
       "\n",
       "    .dataframe tbody tr th {\n",
       "        vertical-align: top;\n",
       "    }\n",
       "\n",
       "    .dataframe thead th {\n",
       "        text-align: right;\n",
       "    }\n",
       "</style>\n",
       "<table border=\"1\" class=\"dataframe\">\n",
       "  <thead>\n",
       "    <tr style=\"text-align: right;\">\n",
       "      <th></th>\n",
       "      <th>creation_time</th>\n",
       "      <th>name</th>\n",
       "      <th>email</th>\n",
       "      <th>creation_source</th>\n",
       "      <th>last_session_creation_time</th>\n",
       "      <th>opted_in_to_mailing_list</th>\n",
       "      <th>enabled_for_marketing_drip</th>\n",
       "      <th>org_id</th>\n",
       "      <th>invited_by_user_id</th>\n",
       "      <th>visited</th>\n",
       "    </tr>\n",
       "    <tr>\n",
       "      <th>object_id</th>\n",
       "      <th></th>\n",
       "      <th></th>\n",
       "      <th></th>\n",
       "      <th></th>\n",
       "      <th></th>\n",
       "      <th></th>\n",
       "      <th></th>\n",
       "      <th></th>\n",
       "      <th></th>\n",
       "      <th></th>\n",
       "    </tr>\n",
       "  </thead>\n",
       "  <tbody>\n",
       "    <tr>\n",
       "      <th>1</th>\n",
       "      <td>2014-04-22 03:53:30</td>\n",
       "      <td>Clausen August</td>\n",
       "      <td>AugustCClausen@yahoo.com</td>\n",
       "      <td>GUEST_INVITE</td>\n",
       "      <td>2014-04-22 03:53:30</td>\n",
       "      <td>1</td>\n",
       "      <td>0</td>\n",
       "      <td>11</td>\n",
       "      <td>10803.0</td>\n",
       "      <td>1.0</td>\n",
       "    </tr>\n",
       "    <tr>\n",
       "      <th>2</th>\n",
       "      <td>2013-11-15 03:45:04</td>\n",
       "      <td>Poole Matthew</td>\n",
       "      <td>MatthewPoole@gustr.com</td>\n",
       "      <td>ORG_INVITE</td>\n",
       "      <td>2014-03-31 03:45:04</td>\n",
       "      <td>0</td>\n",
       "      <td>0</td>\n",
       "      <td>1</td>\n",
       "      <td>316.0</td>\n",
       "      <td>3.0</td>\n",
       "    </tr>\n",
       "    <tr>\n",
       "      <th>3</th>\n",
       "      <td>2013-03-19 23:14:52</td>\n",
       "      <td>Bottrill Mitchell</td>\n",
       "      <td>MitchellBottrill@gustr.com</td>\n",
       "      <td>ORG_INVITE</td>\n",
       "      <td>2013-03-19 23:14:52</td>\n",
       "      <td>0</td>\n",
       "      <td>0</td>\n",
       "      <td>94</td>\n",
       "      <td>1525.0</td>\n",
       "      <td>1.0</td>\n",
       "    </tr>\n",
       "    <tr>\n",
       "      <th>4</th>\n",
       "      <td>2013-05-21 08:09:28</td>\n",
       "      <td>Clausen Nicklas</td>\n",
       "      <td>NicklasSClausen@yahoo.com</td>\n",
       "      <td>GUEST_INVITE</td>\n",
       "      <td>2013-05-22 08:09:28</td>\n",
       "      <td>0</td>\n",
       "      <td>0</td>\n",
       "      <td>1</td>\n",
       "      <td>5151.0</td>\n",
       "      <td>1.0</td>\n",
       "    </tr>\n",
       "    <tr>\n",
       "      <th>5</th>\n",
       "      <td>2013-01-17 10:14:20</td>\n",
       "      <td>Raw Grace</td>\n",
       "      <td>GraceRaw@yahoo.com</td>\n",
       "      <td>GUEST_INVITE</td>\n",
       "      <td>2013-01-22 10:14:20</td>\n",
       "      <td>0</td>\n",
       "      <td>0</td>\n",
       "      <td>193</td>\n",
       "      <td>5240.0</td>\n",
       "      <td>1.0</td>\n",
       "    </tr>\n",
       "    <tr>\n",
       "      <th>...</th>\n",
       "      <td>...</td>\n",
       "      <td>...</td>\n",
       "      <td>...</td>\n",
       "      <td>...</td>\n",
       "      <td>...</td>\n",
       "      <td>...</td>\n",
       "      <td>...</td>\n",
       "      <td>...</td>\n",
       "      <td>...</td>\n",
       "      <td>...</td>\n",
       "    </tr>\n",
       "    <tr>\n",
       "      <th>11996</th>\n",
       "      <td>2013-09-06 06:14:15</td>\n",
       "      <td>Meier Sophia</td>\n",
       "      <td>SophiaMeier@gustr.com</td>\n",
       "      <td>ORG_INVITE</td>\n",
       "      <td>2013-09-06 06:14:15</td>\n",
       "      <td>0</td>\n",
       "      <td>0</td>\n",
       "      <td>89</td>\n",
       "      <td>8263.0</td>\n",
       "      <td>1.0</td>\n",
       "    </tr>\n",
       "    <tr>\n",
       "      <th>11997</th>\n",
       "      <td>2013-01-10 18:28:37</td>\n",
       "      <td>Fisher Amelie</td>\n",
       "      <td>AmelieFisher@gmail.com</td>\n",
       "      <td>SIGNUP_GOOGLE_AUTH</td>\n",
       "      <td>2013-01-15 18:28:37</td>\n",
       "      <td>0</td>\n",
       "      <td>0</td>\n",
       "      <td>200</td>\n",
       "      <td>NaN</td>\n",
       "      <td>1.0</td>\n",
       "    </tr>\n",
       "    <tr>\n",
       "      <th>11998</th>\n",
       "      <td>2014-04-27 12:45:16</td>\n",
       "      <td>Haynes Jake</td>\n",
       "      <td>JakeHaynes@cuvox.de</td>\n",
       "      <td>GUEST_INVITE</td>\n",
       "      <td>2014-04-27 12:45:16</td>\n",
       "      <td>1</td>\n",
       "      <td>1</td>\n",
       "      <td>83</td>\n",
       "      <td>8074.0</td>\n",
       "      <td>1.0</td>\n",
       "    </tr>\n",
       "    <tr>\n",
       "      <th>11999</th>\n",
       "      <td>2012-05-31 11:55:59</td>\n",
       "      <td>Faber Annett</td>\n",
       "      <td>mhaerzxp@iuxiw.com</td>\n",
       "      <td>PERSONAL_PROJECTS</td>\n",
       "      <td>2012-06-02 11:55:59</td>\n",
       "      <td>0</td>\n",
       "      <td>0</td>\n",
       "      <td>6</td>\n",
       "      <td>NaN</td>\n",
       "      <td>1.0</td>\n",
       "    </tr>\n",
       "    <tr>\n",
       "      <th>12000</th>\n",
       "      <td>2014-01-26 08:57:12</td>\n",
       "      <td>Lima Tha�s</td>\n",
       "      <td>ThaisMeloLima@hotmail.com</td>\n",
       "      <td>SIGNUP</td>\n",
       "      <td>2014-01-26 08:57:12</td>\n",
       "      <td>0</td>\n",
       "      <td>1</td>\n",
       "      <td>0</td>\n",
       "      <td>NaN</td>\n",
       "      <td>1.0</td>\n",
       "    </tr>\n",
       "  </tbody>\n",
       "</table>\n",
       "<p>12000 rows × 10 columns</p>\n",
       "</div>"
      ],
      "text/plain": [
       "                creation_time               name                       email  \\\n",
       "object_id                                                                      \n",
       "1         2014-04-22 03:53:30     Clausen August    AugustCClausen@yahoo.com   \n",
       "2         2013-11-15 03:45:04      Poole Matthew      MatthewPoole@gustr.com   \n",
       "3         2013-03-19 23:14:52  Bottrill Mitchell  MitchellBottrill@gustr.com   \n",
       "4         2013-05-21 08:09:28    Clausen Nicklas   NicklasSClausen@yahoo.com   \n",
       "5         2013-01-17 10:14:20          Raw Grace          GraceRaw@yahoo.com   \n",
       "...                       ...                ...                         ...   \n",
       "11996     2013-09-06 06:14:15       Meier Sophia       SophiaMeier@gustr.com   \n",
       "11997     2013-01-10 18:28:37      Fisher Amelie      AmelieFisher@gmail.com   \n",
       "11998     2014-04-27 12:45:16        Haynes Jake         JakeHaynes@cuvox.de   \n",
       "11999     2012-05-31 11:55:59       Faber Annett          mhaerzxp@iuxiw.com   \n",
       "12000     2014-01-26 08:57:12         Lima Tha�s   ThaisMeloLima@hotmail.com   \n",
       "\n",
       "              creation_source last_session_creation_time  \\\n",
       "object_id                                                  \n",
       "1                GUEST_INVITE        2014-04-22 03:53:30   \n",
       "2                  ORG_INVITE        2014-03-31 03:45:04   \n",
       "3                  ORG_INVITE        2013-03-19 23:14:52   \n",
       "4                GUEST_INVITE        2013-05-22 08:09:28   \n",
       "5                GUEST_INVITE        2013-01-22 10:14:20   \n",
       "...                       ...                        ...   \n",
       "11996              ORG_INVITE        2013-09-06 06:14:15   \n",
       "11997      SIGNUP_GOOGLE_AUTH        2013-01-15 18:28:37   \n",
       "11998            GUEST_INVITE        2014-04-27 12:45:16   \n",
       "11999       PERSONAL_PROJECTS        2012-06-02 11:55:59   \n",
       "12000                  SIGNUP        2014-01-26 08:57:12   \n",
       "\n",
       "           opted_in_to_mailing_list  enabled_for_marketing_drip  org_id  \\\n",
       "object_id                                                                 \n",
       "1                                 1                           0      11   \n",
       "2                                 0                           0       1   \n",
       "3                                 0                           0      94   \n",
       "4                                 0                           0       1   \n",
       "5                                 0                           0     193   \n",
       "...                             ...                         ...     ...   \n",
       "11996                             0                           0      89   \n",
       "11997                             0                           0     200   \n",
       "11998                             1                           1      83   \n",
       "11999                             0                           0       6   \n",
       "12000                             0                           1       0   \n",
       "\n",
       "           invited_by_user_id  visited  \n",
       "object_id                               \n",
       "1                     10803.0      1.0  \n",
       "2                       316.0      3.0  \n",
       "3                      1525.0      1.0  \n",
       "4                      5151.0      1.0  \n",
       "5                      5240.0      1.0  \n",
       "...                       ...      ...  \n",
       "11996                  8263.0      1.0  \n",
       "11997                     NaN      1.0  \n",
       "11998                  8074.0      1.0  \n",
       "11999                     NaN      1.0  \n",
       "12000                     NaN      1.0  \n",
       "\n",
       "[12000 rows x 10 columns]"
      ]
     },
     "execution_count": 172,
     "metadata": {},
     "output_type": "execute_result"
    }
   ],
   "source": [
    "#join back to main dataset\n",
    "vists_per_7_days = vists_per_7_days.groupby('user_id').visited.max()\n",
    "user_data = pd.merge(user_data, vists_per_7_days, how='left', left_on=['object_id'], right_on=['user_id'])\n",
    "user_data.set_index('object_id')"
   ]
  },
  {
   "cell_type": "code",
   "execution_count": 173,
   "id": "aerial-nature",
   "metadata": {
    "ExecuteTime": {
     "end_time": "2021-07-05T23:38:56.014576Z",
     "start_time": "2021-07-05T23:38:55.976678Z"
    }
   },
   "outputs": [
    {
     "data": {
      "text/plain": [
       "False    10398\n",
       "True      1602\n",
       "Name: adopted_user, dtype: int64"
      ]
     },
     "execution_count": 173,
     "metadata": {},
     "output_type": "execute_result"
    }
   ],
   "source": [
    "# the target field\n",
    "user_data[\"adopted_user\"] = user_data.visited >= 3\n",
    "user_data[\"adopted_user\"].value_counts()"
   ]
  },
  {
   "cell_type": "code",
   "execution_count": 174,
   "id": "dependent-hunter",
   "metadata": {
    "ExecuteTime": {
     "end_time": "2021-07-05T23:38:56.390307Z",
     "start_time": "2021-07-05T23:38:56.017568Z"
    }
   },
   "outputs": [
    {
     "name": "stderr",
     "output_type": "stream",
     "text": [
      "C:\\ProgramData\\Anaconda3\\lib\\site-packages\\ipykernel_launcher.py:7: DeprecationWarning: `np.bool` is a deprecated alias for the builtin `bool`. To silence this warning, use `bool` by itself. Doing this will not modify any behavior and is safe. If you specifically wanted the numpy scalar type, use `np.bool_` here.\n",
      "Deprecated in NumPy 1.20; for more details and guidance: https://numpy.org/devdocs/release/1.20.0-notes.html#deprecations\n",
      "  import sys\n"
     ]
    },
    {
     "data": {
      "image/png": "[encoded data removed]",
      "text/plain": [
       "<Figure size 720x720 with 2 Axes>"
      ]
     },
     "metadata": {
      "needs_background": "light"
     },
     "output_type": "display_data"
    }
   ],
   "source": [
    "# fancy heatmap with mask to avoid duplicates\n",
    "fig, ax = plt.subplots(figsize=(10,10))         # Sample figsize in inches\n",
    "font = {'family' : 'ariel',\n",
    "        'size'   : 12}\n",
    "plt.rcParams.update({'font.size': 12})\n",
    "\n",
    "mask = np.zeros_like(user_data.corr(), dtype=np.bool)\n",
    "mask[np.triu_indices_from(mask)] = True\n",
    "\n",
    "sns.heatmap(user_data.corr(), ax=ax, vmin=-1, vmax=1, cmap='vlag', mask=mask);"
   ]
  },
  {
   "cell_type": "code",
   "execution_count": 175,
   "id": "metropolitan-grammar",
   "metadata": {
    "ExecuteTime": {
     "end_time": "2021-07-05T23:38:56.559413Z",
     "start_time": "2021-07-05T23:38:56.397184Z"
    }
   },
   "outputs": [
    {
     "name": "stdout",
     "output_type": "stream",
     "text": [
      "invited by user:\n",
      "10741.0    13\n",
      "2527.0     12\n",
      "11770.0    11\n",
      "1525.0     11\n",
      "2308.0     11\n",
      "           ..\n",
      "5592.0      1\n",
      "5289.0      1\n",
      "3288.0      1\n",
      "4467.0      1\n",
      "10872.0     1\n",
      "Name: invited_by_user_id, Length: 2564, dtype: int64\n",
      "\n",
      "Org ID\n"
     ]
    },
    {
     "data": {
      "image/png": "[encoded data removed]",
      "text/plain": [
       "<Figure size 432x288 with 1 Axes>"
      ]
     },
     "metadata": {
      "needs_background": "light"
     },
     "output_type": "display_data"
    }
   ],
   "source": [
    "\n",
    "print(\"invited by user:\")\n",
    "print(user_data.invited_by_user_id.value_counts())\n",
    "\n",
    "print(\"\\nOrg ID\")\n",
    "user_data.org_id.hist();"
   ]
  },
  {
   "cell_type": "markdown",
   "id": "professional-think",
   "metadata": {},
   "source": [
    "## ML models"
   ]
  },
  {
   "cell_type": "code",
   "execution_count": 176,
   "id": "conventional-space",
   "metadata": {
    "ExecuteTime": {
     "end_time": "2021-07-05T23:38:56.599320Z",
     "start_time": "2021-07-05T23:38:56.561372Z"
    }
   },
   "outputs": [
    {
     "name": "stdout",
     "output_type": "stream",
     "text": [
      "<class 'pandas.core.frame.DataFrame'>\n",
      "Int64Index: 12000 entries, 0 to 11999\n",
      "Data columns (total 12 columns):\n",
      " #   Column                      Non-Null Count  Dtype         \n",
      "---  ------                      --------------  -----         \n",
      " 0   object_id                   12000 non-null  int64         \n",
      " 1   creation_time               12000 non-null  datetime64[ns]\n",
      " 2   name                        12000 non-null  object        \n",
      " 3   email                       12000 non-null  object        \n",
      " 4   creation_source             12000 non-null  object        \n",
      " 5   last_session_creation_time  8823 non-null   datetime64[ns]\n",
      " 6   opted_in_to_mailing_list    12000 non-null  int64         \n",
      " 7   enabled_for_marketing_drip  12000 non-null  int64         \n",
      " 8   org_id                      12000 non-null  int64         \n",
      " 9   invited_by_user_id          6417 non-null   float64       \n",
      " 10  visited                     8823 non-null   float64       \n",
      " 11  adopted_user                12000 non-null  bool          \n",
      "dtypes: bool(1), datetime64[ns](2), float64(2), int64(4), object(3)\n",
      "memory usage: 1.1+ MB\n"
     ]
    }
   ],
   "source": [
    "user_data.info()"
   ]
  },
  {
   "cell_type": "code",
   "execution_count": 177,
   "id": "spoken-translation",
   "metadata": {
    "ExecuteTime": {
     "end_time": "2021-07-05T23:38:56.663148Z",
     "start_time": "2021-07-05T23:38:56.602310Z"
    }
   },
   "outputs": [],
   "source": [
    "X = user_data.drop(['visited', 'adopted_user'], axis='columns')\n",
    "y = user_data.adopted_user"
   ]
  },
  {
   "cell_type": "code",
   "execution_count": 178,
   "id": "southeast-russell",
   "metadata": {
    "ExecuteTime": {
     "end_time": "2021-07-05T23:38:56.799133Z",
     "start_time": "2021-07-05T23:38:56.665143Z"
    }
   },
   "outputs": [
    {
     "data": {
      "text/html": [
       "<div>\n",
       "<style scoped>\n",
       "    .dataframe tbody tr th:only-of-type {\n",
       "        vertical-align: middle;\n",
       "    }\n",
       "\n",
       "    .dataframe tbody tr th {\n",
       "        vertical-align: top;\n",
       "    }\n",
       "\n",
       "    .dataframe thead th {\n",
       "        text-align: right;\n",
       "    }\n",
       "</style>\n",
       "<table border=\"1\" class=\"dataframe\">\n",
       "  <thead>\n",
       "    <tr style=\"text-align: right;\">\n",
       "      <th></th>\n",
       "      <th>object_id</th>\n",
       "      <th>creation_time</th>\n",
       "      <th>creation_source</th>\n",
       "      <th>last_session_creation_time</th>\n",
       "      <th>opted_in_to_mailing_list</th>\n",
       "      <th>enabled_for_marketing_drip</th>\n",
       "      <th>org_id</th>\n",
       "      <th>invited_by_user_id</th>\n",
       "    </tr>\n",
       "  </thead>\n",
       "  <tbody>\n",
       "    <tr>\n",
       "      <th>0</th>\n",
       "      <td>1</td>\n",
       "      <td>2014-04-22 03:53:30</td>\n",
       "      <td>GUEST_INVITE</td>\n",
       "      <td>2014-04-22 03:53:30</td>\n",
       "      <td>1</td>\n",
       "      <td>0</td>\n",
       "      <td>11</td>\n",
       "      <td>10803.0</td>\n",
       "    </tr>\n",
       "    <tr>\n",
       "      <th>1</th>\n",
       "      <td>2</td>\n",
       "      <td>2013-11-15 03:45:04</td>\n",
       "      <td>ORG_INVITE</td>\n",
       "      <td>2014-03-31 03:45:04</td>\n",
       "      <td>0</td>\n",
       "      <td>0</td>\n",
       "      <td>1</td>\n",
       "      <td>316.0</td>\n",
       "    </tr>\n",
       "    <tr>\n",
       "      <th>2</th>\n",
       "      <td>3</td>\n",
       "      <td>2013-03-19 23:14:52</td>\n",
       "      <td>ORG_INVITE</td>\n",
       "      <td>2013-03-19 23:14:52</td>\n",
       "      <td>0</td>\n",
       "      <td>0</td>\n",
       "      <td>94</td>\n",
       "      <td>1525.0</td>\n",
       "    </tr>\n",
       "    <tr>\n",
       "      <th>3</th>\n",
       "      <td>4</td>\n",
       "      <td>2013-05-21 08:09:28</td>\n",
       "      <td>GUEST_INVITE</td>\n",
       "      <td>2013-05-22 08:09:28</td>\n",
       "      <td>0</td>\n",
       "      <td>0</td>\n",
       "      <td>1</td>\n",
       "      <td>5151.0</td>\n",
       "    </tr>\n",
       "    <tr>\n",
       "      <th>4</th>\n",
       "      <td>5</td>\n",
       "      <td>2013-01-17 10:14:20</td>\n",
       "      <td>GUEST_INVITE</td>\n",
       "      <td>2013-01-22 10:14:20</td>\n",
       "      <td>0</td>\n",
       "      <td>0</td>\n",
       "      <td>193</td>\n",
       "      <td>5240.0</td>\n",
       "    </tr>\n",
       "  </tbody>\n",
       "</table>\n",
       "</div>"
      ],
      "text/plain": [
       "   object_id       creation_time creation_source last_session_creation_time  \\\n",
       "0          1 2014-04-22 03:53:30    GUEST_INVITE        2014-04-22 03:53:30   \n",
       "1          2 2013-11-15 03:45:04      ORG_INVITE        2014-03-31 03:45:04   \n",
       "2          3 2013-03-19 23:14:52      ORG_INVITE        2013-03-19 23:14:52   \n",
       "3          4 2013-05-21 08:09:28    GUEST_INVITE        2013-05-22 08:09:28   \n",
       "4          5 2013-01-17 10:14:20    GUEST_INVITE        2013-01-22 10:14:20   \n",
       "\n",
       "   opted_in_to_mailing_list  enabled_for_marketing_drip  org_id  \\\n",
       "0                         1                           0      11   \n",
       "1                         0                           0       1   \n",
       "2                         0                           0      94   \n",
       "3                         0                           0       1   \n",
       "4                         0                           0     193   \n",
       "\n",
       "   invited_by_user_id  \n",
       "0             10803.0  \n",
       "1               316.0  \n",
       "2              1525.0  \n",
       "3              5151.0  \n",
       "4              5240.0  "
      ]
     },
     "execution_count": 178,
     "metadata": {},
     "output_type": "execute_result"
    }
   ],
   "source": [
    "X = X.drop(['name', 'email'], axis='columns')\n",
    "X.head()"
   ]
  },
  {
   "cell_type": "markdown",
   "id": "boring-armor",
   "metadata": {},
   "source": [
    "### Feature Eng\n",
    " - one hot encode creation_source, org_id\n",
    " - convert \"invited_by_user_id\" to be bool 'was_invited_by_user'\n",
    " - convert 'last_session_creation_time' to 'day used since creation time' and 'have_used_since_creation'"
   ]
  },
  {
   "cell_type": "code",
   "execution_count": 179,
   "id": "excited-triangle",
   "metadata": {
    "ExecuteTime": {
     "end_time": "2021-07-05T23:38:56.897804Z",
     "start_time": "2021-07-05T23:38:56.799133Z"
    }
   },
   "outputs": [],
   "source": [
    "# Convert \"invited_by_user_id\" to be bool 'invited_by_user'\n",
    "X['was_invited_by_user'] = X.invited_by_user_id.notnull()\n",
    "\n",
    "#convert 'last_session_creation_time' to 'day used since creation time' and 'have_used_since_creation'\n",
    "X['have_used_since_creation'] = X.last_session_creation_time.notnull()\n",
    "\n",
    "X['creation_minus_last_active_date_as_days'] = (X.last_session_creation_time - X.creation_time).dt.days\n",
    "\n",
    "#Drop the old ones\n",
    "X = X.drop(['invited_by_user_id', 'creation_time', 'last_session_creation_time', 'object_id'], axis='columns')"
   ]
  },
  {
   "cell_type": "code",
   "execution_count": 182,
   "id": "funny-cargo",
   "metadata": {
    "ExecuteTime": {
     "end_time": "2021-07-05T23:39:45.206626Z",
     "start_time": "2021-07-05T23:39:45.184649Z"
    }
   },
   "outputs": [
    {
     "name": "stdout",
     "output_type": "stream",
     "text": [
      "<class 'pandas.core.frame.DataFrame'>\n",
      "Int64Index: 12000 entries, 0 to 11999\n",
      "Data columns (total 7 columns):\n",
      " #   Column                                   Non-Null Count  Dtype  \n",
      "---  ------                                   --------------  -----  \n",
      " 0   creation_source                          12000 non-null  object \n",
      " 1   opted_in_to_mailing_list                 12000 non-null  int64  \n",
      " 2   enabled_for_marketing_drip               12000 non-null  int64  \n",
      " 3   org_id                                   12000 non-null  int64  \n",
      " 4   was_invited_by_user                      12000 non-null  bool   \n",
      " 5   have_used_since_creation                 12000 non-null  bool   \n",
      " 6   creation_minus_last_active_date_as_days  12000 non-null  float64\n",
      "dtypes: bool(2), float64(1), int64(3), object(1)\n",
      "memory usage: 585.9+ KB\n"
     ]
    }
   ],
   "source": [
    "X = X.fillna(0)\n",
    "X.info()"
   ]
  },
  {
   "cell_type": "code",
   "execution_count": 183,
   "id": "golden-rochester",
   "metadata": {
    "ExecuteTime": {
     "end_time": "2021-07-05T23:39:49.240711Z",
     "start_time": "2021-07-05T23:39:48.743276Z"
    }
   },
   "outputs": [
    {
     "data": {
      "text/html": [
       "<div>\n",
       "<style scoped>\n",
       "    .dataframe tbody tr th:only-of-type {\n",
       "        vertical-align: middle;\n",
       "    }\n",
       "\n",
       "    .dataframe tbody tr th {\n",
       "        vertical-align: top;\n",
       "    }\n",
       "\n",
       "    .dataframe thead th {\n",
       "        text-align: right;\n",
       "    }\n",
       "</style>\n",
       "<table border=\"1\" class=\"dataframe\">\n",
       "  <thead>\n",
       "    <tr style=\"text-align: right;\">\n",
       "      <th></th>\n",
       "      <th>opted_in_to_mailing_list</th>\n",
       "      <th>enabled_for_marketing_drip</th>\n",
       "      <th>was_invited_by_user</th>\n",
       "      <th>have_used_since_creation</th>\n",
       "      <th>creation_minus_last_active_date_as_days</th>\n",
       "      <th>source__GUEST_INVITE</th>\n",
       "      <th>source__ORG_INVITE</th>\n",
       "      <th>source__PERSONAL_PROJECTS</th>\n",
       "      <th>source__SIGNUP</th>\n",
       "      <th>source__SIGNUP_GOOGLE_AUTH</th>\n",
       "      <th>...</th>\n",
       "      <th>org_ID__408.0</th>\n",
       "      <th>org_ID__409.0</th>\n",
       "      <th>org_ID__410.0</th>\n",
       "      <th>org_ID__411.0</th>\n",
       "      <th>org_ID__412.0</th>\n",
       "      <th>org_ID__413.0</th>\n",
       "      <th>org_ID__414.0</th>\n",
       "      <th>org_ID__415.0</th>\n",
       "      <th>org_ID__416.0</th>\n",
       "      <th>org_ID__nan</th>\n",
       "    </tr>\n",
       "  </thead>\n",
       "  <tbody>\n",
       "    <tr>\n",
       "      <th>0</th>\n",
       "      <td>1</td>\n",
       "      <td>0</td>\n",
       "      <td>True</td>\n",
       "      <td>True</td>\n",
       "      <td>0.0</td>\n",
       "      <td>1</td>\n",
       "      <td>0</td>\n",
       "      <td>0</td>\n",
       "      <td>0</td>\n",
       "      <td>0</td>\n",
       "      <td>...</td>\n",
       "      <td>0</td>\n",
       "      <td>0</td>\n",
       "      <td>0</td>\n",
       "      <td>0</td>\n",
       "      <td>0</td>\n",
       "      <td>0</td>\n",
       "      <td>0</td>\n",
       "      <td>0</td>\n",
       "      <td>0</td>\n",
       "      <td>0</td>\n",
       "    </tr>\n",
       "    <tr>\n",
       "      <th>1</th>\n",
       "      <td>0</td>\n",
       "      <td>0</td>\n",
       "      <td>True</td>\n",
       "      <td>True</td>\n",
       "      <td>136.0</td>\n",
       "      <td>0</td>\n",
       "      <td>1</td>\n",
       "      <td>0</td>\n",
       "      <td>0</td>\n",
       "      <td>0</td>\n",
       "      <td>...</td>\n",
       "      <td>0</td>\n",
       "      <td>0</td>\n",
       "      <td>0</td>\n",
       "      <td>0</td>\n",
       "      <td>0</td>\n",
       "      <td>0</td>\n",
       "      <td>0</td>\n",
       "      <td>0</td>\n",
       "      <td>0</td>\n",
       "      <td>0</td>\n",
       "    </tr>\n",
       "    <tr>\n",
       "      <th>2</th>\n",
       "      <td>0</td>\n",
       "      <td>0</td>\n",
       "      <td>True</td>\n",
       "      <td>True</td>\n",
       "      <td>0.0</td>\n",
       "      <td>0</td>\n",
       "      <td>1</td>\n",
       "      <td>0</td>\n",
       "      <td>0</td>\n",
       "      <td>0</td>\n",
       "      <td>...</td>\n",
       "      <td>0</td>\n",
       "      <td>0</td>\n",
       "      <td>0</td>\n",
       "      <td>0</td>\n",
       "      <td>0</td>\n",
       "      <td>0</td>\n",
       "      <td>0</td>\n",
       "      <td>0</td>\n",
       "      <td>0</td>\n",
       "      <td>0</td>\n",
       "    </tr>\n",
       "    <tr>\n",
       "      <th>3</th>\n",
       "      <td>0</td>\n",
       "      <td>0</td>\n",
       "      <td>True</td>\n",
       "      <td>True</td>\n",
       "      <td>1.0</td>\n",
       "      <td>1</td>\n",
       "      <td>0</td>\n",
       "      <td>0</td>\n",
       "      <td>0</td>\n",
       "      <td>0</td>\n",
       "      <td>...</td>\n",
       "      <td>0</td>\n",
       "      <td>0</td>\n",
       "      <td>0</td>\n",
       "      <td>0</td>\n",
       "      <td>0</td>\n",
       "      <td>0</td>\n",
       "      <td>0</td>\n",
       "      <td>0</td>\n",
       "      <td>0</td>\n",
       "      <td>0</td>\n",
       "    </tr>\n",
       "    <tr>\n",
       "      <th>4</th>\n",
       "      <td>0</td>\n",
       "      <td>0</td>\n",
       "      <td>True</td>\n",
       "      <td>True</td>\n",
       "      <td>5.0</td>\n",
       "      <td>1</td>\n",
       "      <td>0</td>\n",
       "      <td>0</td>\n",
       "      <td>0</td>\n",
       "      <td>0</td>\n",
       "      <td>...</td>\n",
       "      <td>0</td>\n",
       "      <td>0</td>\n",
       "      <td>0</td>\n",
       "      <td>0</td>\n",
       "      <td>0</td>\n",
       "      <td>0</td>\n",
       "      <td>0</td>\n",
       "      <td>0</td>\n",
       "      <td>0</td>\n",
       "      <td>0</td>\n",
       "    </tr>\n",
       "  </tbody>\n",
       "</table>\n",
       "<p>5 rows × 429 columns</p>\n",
       "</div>"
      ],
      "text/plain": [
       "   opted_in_to_mailing_list  enabled_for_marketing_drip  was_invited_by_user  \\\n",
       "0                         1                           0                 True   \n",
       "1                         0                           0                 True   \n",
       "2                         0                           0                 True   \n",
       "3                         0                           0                 True   \n",
       "4                         0                           0                 True   \n",
       "\n",
       "   have_used_since_creation  creation_minus_last_active_date_as_days  \\\n",
       "0                      True                                      0.0   \n",
       "1                      True                                    136.0   \n",
       "2                      True                                      0.0   \n",
       "3                      True                                      1.0   \n",
       "4                      True                                      5.0   \n",
       "\n",
       "   source__GUEST_INVITE  source__ORG_INVITE  source__PERSONAL_PROJECTS  \\\n",
       "0                     1                   0                          0   \n",
       "1                     0                   1                          0   \n",
       "2                     0                   1                          0   \n",
       "3                     1                   0                          0   \n",
       "4                     1                   0                          0   \n",
       "\n",
       "   source__SIGNUP  source__SIGNUP_GOOGLE_AUTH  ...  org_ID__408.0  \\\n",
       "0               0                           0  ...              0   \n",
       "1               0                           0  ...              0   \n",
       "2               0                           0  ...              0   \n",
       "3               0                           0  ...              0   \n",
       "4               0                           0  ...              0   \n",
       "\n",
       "   org_ID__409.0  org_ID__410.0  org_ID__411.0  org_ID__412.0  org_ID__413.0  \\\n",
       "0              0              0              0              0              0   \n",
       "1              0              0              0              0              0   \n",
       "2              0              0              0              0              0   \n",
       "3              0              0              0              0              0   \n",
       "4              0              0              0              0              0   \n",
       "\n",
       "   org_ID__414.0  org_ID__415.0  org_ID__416.0  org_ID__nan  \n",
       "0              0              0              0            0  \n",
       "1              0              0              0            0  \n",
       "2              0              0              0            0  \n",
       "3              0              0              0            0  \n",
       "4              0              0              0            0  \n",
       "\n",
       "[5 rows x 429 columns]"
      ]
     },
     "execution_count": 183,
     "metadata": {},
     "output_type": "execute_result"
    }
   ],
   "source": [
    "# One hot encode categories\n",
    "X = pd.get_dummies(X,prefix=\"source_\", dummy_na=\"no_org\")\n",
    "X = pd.get_dummies(X,prefix=\"org_ID_\", dummy_na=\"no_org\", columns=['org_id'])\n",
    "\n",
    "X.head()"
   ]
  },
  {
   "cell_type": "code",
   "execution_count": 184,
   "id": "outdoor-castle",
   "metadata": {
    "ExecuteTime": {
     "end_time": "2021-07-05T23:39:49.287536Z",
     "start_time": "2021-07-05T23:39:49.247655Z"
    }
   },
   "outputs": [
    {
     "data": {
      "text/plain": [
       "(12000, 429)"
      ]
     },
     "execution_count": 184,
     "metadata": {},
     "output_type": "execute_result"
    }
   ],
   "source": [
    "X.shape"
   ]
  },
  {
   "cell_type": "code",
   "execution_count": null,
   "id": "legal-contest",
   "metadata": {
    "ExecuteTime": {
     "end_time": "2021-07-05T23:38:15.700801Z",
     "start_time": "2021-07-05T23:38:15.671837Z"
    }
   },
   "outputs": [],
   "source": []
  },
  {
   "cell_type": "markdown",
   "id": "armed-service",
   "metadata": {},
   "source": [
    "### Modeling"
   ]
  },
  {
   "cell_type": "code",
   "execution_count": 185,
   "id": "occasional-shift",
   "metadata": {
    "ExecuteTime": {
     "end_time": "2021-07-05T23:39:52.339360Z",
     "start_time": "2021-07-05T23:39:52.283167Z"
    }
   },
   "outputs": [],
   "source": [
    "X_train, X_test, y_train, y_test = train_test_split(X, \n",
    "                                                    y, test_size=0.2, \n",
    "                                                    random_state=42)"
   ]
  },
  {
   "cell_type": "code",
   "execution_count": 186,
   "id": "hairy-blond",
   "metadata": {
    "ExecuteTime": {
     "end_time": "2021-07-05T23:39:52.576843Z",
     "start_time": "2021-07-05T23:39:52.564868Z"
    }
   },
   "outputs": [],
   "source": [
    "## Random Forest"
   ]
  },
  {
   "cell_type": "code",
   "execution_count": 187,
   "id": "remarkable-hormone",
   "metadata": {
    "ExecuteTime": {
     "end_time": "2021-07-05T23:39:52.873583Z",
     "start_time": "2021-07-05T23:39:52.865607Z"
    }
   },
   "outputs": [],
   "source": [
    "RFclass = RandomForestClassifier(random_state=42)  #Set up above\n",
    "\n",
    "grid_params_rf = {'randomforestclassifier__min_samples_split': np.arange(2,12),\n",
    "                  'randomforestclassifier__n_estimators': np.arange(10,500,5)\n",
    "              }\n",
    "rfPipe = make_pipeline(RFclass)\n",
    "\n",
    "#Random search through parameters + cross validation\n",
    "rfRandSearch = RandomizedSearchCV(rfPipe, param_distributions=grid_params_rf, n_jobs=-1, n_iter=10)\n"
   ]
  },
  {
   "cell_type": "code",
   "execution_count": 188,
   "id": "metric-beast",
   "metadata": {
    "ExecuteTime": {
     "end_time": "2021-07-05T23:42:27.892840Z",
     "start_time": "2021-07-05T23:39:53.713794Z"
    }
   },
   "outputs": [
    {
     "name": "stdout",
     "output_type": "stream",
     "text": [
      "Wall time: 2min 34s\n"
     ]
    },
    {
     "data": {
      "text/plain": [
       "{'randomforestclassifier__n_estimators': 30,\n",
       " 'randomforestclassifier__min_samples_split': 7}"
      ]
     },
     "execution_count": 188,
     "metadata": {},
     "output_type": "execute_result"
    }
   ],
   "source": [
    "%%time\n",
    "rfRandSearch.fit(X_train, y_train)\n",
    "\n",
    "y_tr_rf = rfRandSearch.predict(X_train)\n",
    "y_te_rf = rfRandSearch.predict(X_test)\n",
    "rfRandSearch.best_params_"
   ]
  },
  {
   "cell_type": "code",
   "execution_count": 192,
   "id": "genuine-hypothesis",
   "metadata": {
    "ExecuteTime": {
     "end_time": "2021-07-05T23:43:59.741211Z",
     "start_time": "2021-07-05T23:43:59.366993Z"
    }
   },
   "outputs": [
    {
     "name": "stdout",
     "output_type": "stream",
     "text": [
      "Train score: 0.989375\n",
      "Test score: 0.9770833333333333\n"
     ]
    }
   ],
   "source": [
    "# Print scores\n",
    "print(\"Train score:\", rfRandSearch.score(X_train, y_train))\n",
    "print(\"Test score:\", rfRandSearch.score(X_test, y_test))\n"
   ]
  },
  {
   "cell_type": "code",
   "execution_count": 191,
   "id": "refined-january",
   "metadata": {
    "ExecuteTime": {
     "end_time": "2021-07-05T23:43:14.525293Z",
     "start_time": "2021-07-05T23:43:14.513500Z"
    }
   },
   "outputs": [
    {
     "data": {
      "text/plain": [
       "30"
      ]
     },
     "execution_count": 191,
     "metadata": {},
     "output_type": "execute_result"
    }
   ],
   "source": [
    "rfRandSearch.best_params_['randomforestclassifier__n_estimators']"
   ]
  },
  {
   "cell_type": "code",
   "execution_count": 193,
   "id": "enhanced-miniature",
   "metadata": {
    "ExecuteTime": {
     "end_time": "2021-07-05T23:44:07.139273Z",
     "start_time": "2021-07-05T23:44:05.539238Z"
    }
   },
   "outputs": [
    {
     "data": {
      "text/plain": [
       "RandomForestClassifier(min_samples_split=7, n_estimators=30, random_state=42)"
      ]
     },
     "execution_count": 193,
     "metadata": {},
     "output_type": "execute_result"
    }
   ],
   "source": [
    "#Check feature importance\n",
    "best_n_est = rfRandSearch.best_params_['randomforestclassifier__n_estimators']\n",
    "best_min_samples_split = rfRandSearch.best_params_['randomforestclassifier__min_samples_split']\n",
    "RF_best = RandomForestClassifier(random_state = 42,\n",
    "                                 n_estimators = best_n_est, \n",
    "                                 min_samples_split = best_min_samples_split)\n",
    "\n",
    "\n",
    "#After Jason Brownlee -  https://machinelearningmastery.com/calculate-feature-importance-with-python/\n",
    "RF_best.fit(X_train, y_train)"
   ]
  },
  {
   "cell_type": "code",
   "execution_count": 251,
   "id": "durable-dressing",
   "metadata": {
    "ExecuteTime": {
     "end_time": "2021-07-06T00:19:30.858910Z",
     "start_time": "2021-07-06T00:19:30.650529Z"
    }
   },
   "outputs": [
    {
     "data": {
      "image/png": "[encoded data removed]",
      "text/plain": [
       "<Figure size 288x576 with 1 Axes>"
      ]
     },
     "metadata": {
      "needs_background": "light"
     },
     "output_type": "display_data"
    }
   ],
   "source": [
    "\n",
    "\n",
    "\n",
    "#print(\"Top 5 features\", feat_importance[0:5])\n",
    "\n",
    "#Show all\n",
    "#feat_importance_df = pd.DataFrame(feat_importance, columns = [\"Feature\", \"Importance\"]) \n",
    "def plot_rf_feat_importance(RF_best, X_train, top_n=5, start_n=0 ):\n",
    "    importance = RF_best.feature_importances_\n",
    "    x_features = X_train.columns\n",
    "    \n",
    "    # summarize feature importance\n",
    "    feat_importance = list(zip(x_features, importance))\n",
    "    feat_importance = sorted(feat_importance,key=lambda x: abs(x[1]), reverse=True)\n",
    "    \n",
    "    #Show top_n\n",
    "    feat_importance_df = pd.DataFrame(feat_importance[start_n:top_n], columns = [\"Feature\", \"Importance\"]) \n",
    "\n",
    "\n",
    "    # plot feature importance\n",
    "    #px.bar(data_frame = feat_importance_df, x = \"Feature\", y = \"Importance\", color= \"Importance\")\n",
    "    fig, ax = plt.subplots(figsize=(4,8))\n",
    "    sns.barplot(data= feat_importance_df, y = \"Feature\", x = \"Importance\", orient='h')\n",
    "    plt.ylabel(\"Feature\", size=14)\n",
    "    plt.xlabel(\"Importance\", size=14)\n",
    "    plt.xticks(rotation=90)\n",
    "    sns.despine();\n",
    "plot_rf_feat_importance(RF_best, X_train)"
   ]
  },
  {
   "cell_type": "code",
   "execution_count": 252,
   "id": "level-victor",
   "metadata": {
    "ExecuteTime": {
     "end_time": "2021-07-06T00:19:31.050398Z",
     "start_time": "2021-07-06T00:19:30.861903Z"
    }
   },
   "outputs": [
    {
     "data": {
      "image/png": "[encoded data removed]",
      "text/plain": [
       "<Figure size 288x576 with 1 Axes>"
      ]
     },
     "metadata": {
      "needs_background": "light"
     },
     "output_type": "display_data"
    }
   ],
   "source": [
    "plot_rf_feat_importance(RF_best, X_train, top_n=5, start_n=1)"
   ]
  },
  {
   "cell_type": "code",
   "execution_count": null,
   "id": "alone-vacuum",
   "metadata": {
    "ExecuteTime": {
     "end_time": "2021-07-05T23:55:47.358848Z",
     "start_time": "2021-07-05T23:55:17.429Z"
    }
   },
   "outputs": [],
   "source": [
    "# join X and Y back with feature engineering and check the correlation\n",
    "eng_user_data = pd.merge(X, y, how='left', left_index=True, right_index=True)\n"
   ]
  },
  {
   "cell_type": "code",
   "execution_count": 248,
   "id": "concrete-quest",
   "metadata": {
    "ExecuteTime": {
     "end_time": "2021-07-06T00:14:54.186752Z",
     "start_time": "2021-07-06T00:14:53.993127Z"
    }
   },
   "outputs": [
    {
     "data": {
      "text/plain": [
       "Text(0.5, 0, 'Adopted user?')"
      ]
     },
     "execution_count": 248,
     "metadata": {},
     "output_type": "execute_result"
    },
    {
     "data": {
      "image/png": "[encoded data removed]",
      "text/plain": [
       "<Figure size 432x288 with 1 Axes>"
      ]
     },
     "metadata": {
      "needs_background": "light"
     },
     "output_type": "display_data"
    }
   ],
   "source": [
    "sns.boxplot(y='creation_minus_last_active_date_as_days',x='adopted_user', data=eng_user_data);\n",
    "plt.ylabel('Days between signup and last login')\n",
    "plt.xlabel('Adopted user?')"
   ]
  },
  {
   "cell_type": "code",
   "execution_count": 227,
   "id": "sapphire-scope",
   "metadata": {
    "ExecuteTime": {
     "end_time": "2021-07-06T00:06:56.992724Z",
     "start_time": "2021-07-06T00:06:56.979761Z"
    }
   },
   "outputs": [
    {
     "data": {
      "text/plain": [
       "0.6427796822789339"
      ]
     },
     "execution_count": 227,
     "metadata": {},
     "output_type": "execute_result"
    }
   ],
   "source": []
  },
  {
   "cell_type": "code",
   "execution_count": 246,
   "id": "essential-consultancy",
   "metadata": {
    "ExecuteTime": {
     "end_time": "2021-07-06T00:13:55.967874Z",
     "start_time": "2021-07-06T00:13:55.391757Z"
    }
   },
   "outputs": [
    {
     "data": {
      "text/plain": [
       "([<matplotlib.axis.YTick at 0x2892c769e48>,\n",
       "  <matplotlib.axis.YTick at 0x2892c7696a0>],\n",
       " [Text(0, -0.1, 'No'), Text(0, 0.9, 'Yes')])"
      ]
     },
     "execution_count": 246,
     "metadata": {},
     "output_type": "execute_result"
    },
    {
     "data": {
      "image/png": "[encoded data removed]",
      "text/plain": [
       "<Figure size 432x288 with 1 Axes>"
      ]
     },
     "metadata": {
      "needs_background": "light"
     },
     "output_type": "display_data"
    }
   ],
   "source": [
    "import random\n",
    "x = eng_user_data.creation_minus_last_active_date_as_days\n",
    "y= eng_user_data.adopted_user.astype(float)\n",
    "y = [i+random.random()/4-0.25 for i in y]\n",
    "sns.scatterplot(x=x ,y=y,\n",
    "                alpha =0.2,\n",
    "                hue='adopted_user', data=eng_user_data)\n",
    "plt.xlabel('Days between signup and last login')\n",
    "plt.ylabel('Adopted user?')\n",
    "plt.yticks(ticks=[-0.1,.9], labels=[\"No\", \"Yes\"])"
   ]
  },
  {
   "cell_type": "code",
   "execution_count": 232,
   "id": "executed-airport",
   "metadata": {
    "ExecuteTime": {
     "end_time": "2021-07-06T00:08:46.443104Z",
     "start_time": "2021-07-06T00:08:46.414330Z"
    }
   },
   "outputs": [
    {
     "data": {
      "text/plain": [
       "0        0\n",
       "1        1\n",
       "2        0\n",
       "3        0\n",
       "4        0\n",
       "        ..\n",
       "11995    0\n",
       "11996    0\n",
       "11997    0\n",
       "11998    0\n",
       "11999    0\n",
       "Name: adopted_user, Length: 12000, dtype: int32"
      ]
     },
     "execution_count": 232,
     "metadata": {},
     "output_type": "execute_result"
    }
   ],
   "source": []
  },
  {
   "cell_type": "markdown",
   "id": "thick-machine",
   "metadata": {},
   "source": [
    "## Summary"
   ]
  }
 ],
 "metadata": {
  "kernelspec": {
   "display_name": "Python 3",
   "language": "python",
   "name": "python3"
  },
  "language_info": {
   "codemirror_mode": {
    "name": "ipython",
    "version": 3
   },
   "file_extension": ".py",
   "mimetype": "text/x-python",
   "name": "python",
   "nbconvert_exporter": "python",
   "pygments_lexer": "ipython3",
   "version": "3.7.3"
  },
  "toc": {
   "base_numbering": 1,
   "nav_menu": {},
   "number_sections": true,
   "sideBar": true,
   "skip_h1_title": false,
   "title_cell": "Table of Contents",
   "title_sidebar": "Contents",
   "toc_cell": false,
   "toc_position": {},
   "toc_section_display": true,
   "toc_window_display": false
  }
 },
 "nbformat": 4,
 "nbformat_minor": 5
}
